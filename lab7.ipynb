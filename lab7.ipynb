{
 "cells": [
  {
   "cell_type": "markdown",
   "id": "237fd82e-724e-41d1-81e4-20100e499920",
   "metadata": {
    "id": "237fd82e-724e-41d1-81e4-20100e499920"
   },
   "source": [
    "# Лабораторная 7. Сентимент-анализ\n",
    "\n",
    "Задачи классификации текста аналогично обычной задаче классификации предполагает присвоение метки класса некоторому тексту. Здесь можно действовать любыми методами для того, чтобы классифицировать текст, но мы пойдем по следующему пути: векторизуем последовательности (обязательно почитайте про подходы к векторизации, об эмбеддингах) и обучим RNN\n",
    "\n",
    "После обучения базовых моделей разрешается использовать любой другой подход\n",
    "\n",
    "За выполнение базовой работы можно получить 15 баллов, за преодоление отметки в 94% точности классификации еще 5 баллов\n",
    "Удачи!\n",
    "\n",
    "Примечание: обязательно почитайте про лемматизацию, стеминг, TF-IDF и Word2Vec подходы"
   ]
  },
  {
   "cell_type": "code",
   "execution_count": 1,
   "id": "9377bbbd-cca4-45be-a5d6-2999885bf61e",
   "metadata": {
    "id": "9377bbbd-cca4-45be-a5d6-2999885bf61e",
    "tags": []
   },
   "outputs": [],
   "source": [
    "from sklearn.metrics import accuracy_score\n",
    "from sklearn.feature_extraction.text import TfidfVectorizer\n",
    "\n",
    "import pandas as pd\n",
    "import numpy as np\n",
    "import matplotlib.pyplot as plt\n",
    "import seaborn as sns\n",
    "from tqdm.auto import tqdm\n",
    "\n",
    "\n",
    "import nltk\n",
    "from nltk.corpus import stopwords\n",
    "from nltk.stem import WordNetLemmatizer\n",
    "import re\n",
    "from collections import Counter\n",
    "from string import punctuation\n",
    "\n",
    "from sklearn.feature_extraction.text import TfidfVectorizer\n",
    "from sklearn.model_selection import train_test_split\n",
    "from sklearn.preprocessing import LabelEncoder\n",
    "\n",
    "from gensim.models import Word2Vec\n",
    "import torch\n",
    "import torch.nn as nn\n",
    "from torch.optim import Adam\n",
    "from torch.utils.data import DataLoader , TensorDataset\n",
    "\n",
    "lemma = WordNetLemmatizer()\n",
    "lb = LabelEncoder()"
   ]
  },
  {
   "cell_type": "code",
   "execution_count": 2,
   "id": "2d79b016-b310-41b8-8a48-85023563689b",
   "metadata": {
    "colab": {
     "base_uri": "https://localhost:8080/"
    },
    "id": "2d79b016-b310-41b8-8a48-85023563689b",
    "outputId": "970ff2a5-0431-45fc-f3f9-cf598d330385",
    "tags": []
   },
   "outputs": [
    {
     "name": "stderr",
     "output_type": "stream",
     "text": [
      "[nltk_data] Downloading package wordnet to\n",
      "[nltk_data]     C:\\Users\\user\\AppData\\Roaming\\nltk_data...\n",
      "[nltk_data]   Package wordnet is already up-to-date!\n",
      "[nltk_data] Downloading package punkt to\n",
      "[nltk_data]     C:\\Users\\user\\AppData\\Roaming\\nltk_data...\n",
      "[nltk_data]   Package punkt is already up-to-date!\n",
      "[nltk_data] Downloading package stopwords to\n",
      "[nltk_data]     C:\\Users\\user\\AppData\\Roaming\\nltk_data...\n",
      "[nltk_data]   Package stopwords is already up-to-date!\n"
     ]
    },
    {
     "data": {
      "text/plain": [
       "True"
      ]
     },
     "execution_count": 2,
     "metadata": {},
     "output_type": "execute_result"
    }
   ],
   "source": [
    "import nltk\n",
    "nltk.download('wordnet')\n",
    "nltk.download('punkt')\n",
    "nltk.download('stopwords')"
   ]
  },
  {
   "cell_type": "code",
   "execution_count": 3,
   "id": "f34b5dd3-28b7-4c6c-9bb7-6c2a4f5c3d1f",
   "metadata": {
    "colab": {
     "base_uri": "https://localhost:8080/",
     "height": 206
    },
    "id": "f34b5dd3-28b7-4c6c-9bb7-6c2a4f5c3d1f",
    "outputId": "0244e2d9-84aa-4a76-e4e8-fe5ffe029b02",
    "tags": []
   },
   "outputs": [
    {
     "data": {
      "text/html": [
       "<div>\n",
       "<style scoped>\n",
       "    .dataframe tbody tr th:only-of-type {\n",
       "        vertical-align: middle;\n",
       "    }\n",
       "\n",
       "    .dataframe tbody tr th {\n",
       "        vertical-align: top;\n",
       "    }\n",
       "\n",
       "    .dataframe thead th {\n",
       "        text-align: right;\n",
       "    }\n",
       "</style>\n",
       "<table border=\"1\" class=\"dataframe\">\n",
       "  <thead>\n",
       "    <tr style=\"text-align: right;\">\n",
       "      <th></th>\n",
       "      <th>0</th>\n",
       "      <th>1</th>\n",
       "      <th>2</th>\n",
       "      <th>3</th>\n",
       "    </tr>\n",
       "  </thead>\n",
       "  <tbody>\n",
       "    <tr>\n",
       "      <th>0</th>\n",
       "      <td>2401</td>\n",
       "      <td>Borderlands</td>\n",
       "      <td>Positive</td>\n",
       "      <td>im getting on borderlands and i will murder yo...</td>\n",
       "    </tr>\n",
       "    <tr>\n",
       "      <th>1</th>\n",
       "      <td>2401</td>\n",
       "      <td>Borderlands</td>\n",
       "      <td>Positive</td>\n",
       "      <td>I am coming to the borders and I will kill you...</td>\n",
       "    </tr>\n",
       "    <tr>\n",
       "      <th>2</th>\n",
       "      <td>2401</td>\n",
       "      <td>Borderlands</td>\n",
       "      <td>Positive</td>\n",
       "      <td>im getting on borderlands and i will kill you ...</td>\n",
       "    </tr>\n",
       "    <tr>\n",
       "      <th>3</th>\n",
       "      <td>2401</td>\n",
       "      <td>Borderlands</td>\n",
       "      <td>Positive</td>\n",
       "      <td>im coming on borderlands and i will murder you...</td>\n",
       "    </tr>\n",
       "    <tr>\n",
       "      <th>4</th>\n",
       "      <td>2401</td>\n",
       "      <td>Borderlands</td>\n",
       "      <td>Positive</td>\n",
       "      <td>im getting on borderlands 2 and i will murder ...</td>\n",
       "    </tr>\n",
       "  </tbody>\n",
       "</table>\n",
       "</div>"
      ],
      "text/plain": [
       "      0            1         2  \\\n",
       "0  2401  Borderlands  Positive   \n",
       "1  2401  Borderlands  Positive   \n",
       "2  2401  Borderlands  Positive   \n",
       "3  2401  Borderlands  Positive   \n",
       "4  2401  Borderlands  Positive   \n",
       "\n",
       "                                                   3  \n",
       "0  im getting on borderlands and i will murder yo...  \n",
       "1  I am coming to the borders and I will kill you...  \n",
       "2  im getting on borderlands and i will kill you ...  \n",
       "3  im coming on borderlands and i will murder you...  \n",
       "4  im getting on borderlands 2 and i will murder ...  "
      ]
     },
     "execution_count": 3,
     "metadata": {},
     "output_type": "execute_result"
    }
   ],
   "source": [
    "lemma = WordNetLemmatizer()\n",
    "df = pd.read_csv('twitter_training.csv', header=None)\n",
    "df.head()\n"
   ]
  },
  {
   "cell_type": "code",
   "execution_count": 5,
   "id": "b53e720b-7b9d-4638-a23a-bf05fe7cc116",
   "metadata": {
    "colab": {
     "base_uri": "https://localhost:8080/"
    },
    "id": "b53e720b-7b9d-4638-a23a-bf05fe7cc116",
    "outputId": "6803509f-a633-4ab7-c229-5e29b99f09f5",
    "tags": []
   },
   "outputs": [
    {
     "data": {
      "text/plain": [
       "array(['Amazon', 'ApexLegends', 'AssassinsCreed', 'Battlefield',\n",
       "       'Borderlands', 'CS-GO', 'CallOfDuty', 'CallOfDutyBlackopsColdWar',\n",
       "       'Cyberpunk2077', 'Dota2', 'FIFA', 'Facebook', 'Fortnite', 'Google',\n",
       "       'GrandTheftAuto(GTA)', 'Hearthstone', 'HomeDepot',\n",
       "       'LeagueOfLegends', 'MaddenNFL', 'Microsoft', 'NBA2K', 'Nvidia',\n",
       "       'Overwatch', 'PlayStation5(PS5)',\n",
       "       'PlayerUnknownsBattlegrounds(PUBG)', 'RedDeadRedemption(RDR)',\n",
       "       'TomClancysGhostRecon', 'TomClancysRainbowSix', 'Verizon',\n",
       "       'WorldOfCraft', 'Xbox(Xseries)', 'johnson&johnson'], dtype=object)"
      ]
     },
     "execution_count": 5,
     "metadata": {},
     "output_type": "execute_result"
    }
   ],
   "source": [
    "np.unique(df[1])"
   ]
  },
  {
   "cell_type": "code",
   "execution_count": 6,
   "id": "3ff77261-3daa-46ac-a45c-a7d5c874b23f",
   "metadata": {
    "id": "3ff77261-3daa-46ac-a45c-a7d5c874b23f",
    "tags": []
   },
   "outputs": [],
   "source": [
    "df = df.drop(0 , axis=1)"
   ]
  },
  {
   "cell_type": "code",
   "execution_count": 7,
   "id": "8a09cb08-b4ea-48db-ab1e-d4bbd6ac507e",
   "metadata": {
    "id": "8a09cb08-b4ea-48db-ab1e-d4bbd6ac507e",
    "tags": []
   },
   "outputs": [],
   "source": [
    "df= df.rename(columns={1:\"Feature2\",3:\"Feature1\",2: \"labels\"})"
   ]
  },
  {
   "cell_type": "code",
   "execution_count": 8,
   "id": "df932029-8aa9-4e5a-807b-ed4c731092fc",
   "metadata": {
    "colab": {
     "base_uri": "https://localhost:8080/",
     "height": 206
    },
    "id": "df932029-8aa9-4e5a-807b-ed4c731092fc",
    "outputId": "b6b2a2cd-e52f-4d4f-82fd-47cf7693d035",
    "tags": []
   },
   "outputs": [
    {
     "data": {
      "text/html": [
       "<div>\n",
       "<style scoped>\n",
       "    .dataframe tbody tr th:only-of-type {\n",
       "        vertical-align: middle;\n",
       "    }\n",
       "\n",
       "    .dataframe tbody tr th {\n",
       "        vertical-align: top;\n",
       "    }\n",
       "\n",
       "    .dataframe thead th {\n",
       "        text-align: right;\n",
       "    }\n",
       "</style>\n",
       "<table border=\"1\" class=\"dataframe\">\n",
       "  <thead>\n",
       "    <tr style=\"text-align: right;\">\n",
       "      <th></th>\n",
       "      <th>Feature2</th>\n",
       "      <th>labels</th>\n",
       "      <th>Feature1</th>\n",
       "    </tr>\n",
       "  </thead>\n",
       "  <tbody>\n",
       "    <tr>\n",
       "      <th>0</th>\n",
       "      <td>Borderlands</td>\n",
       "      <td>Positive</td>\n",
       "      <td>im getting on borderlands and i will murder yo...</td>\n",
       "    </tr>\n",
       "    <tr>\n",
       "      <th>1</th>\n",
       "      <td>Borderlands</td>\n",
       "      <td>Positive</td>\n",
       "      <td>I am coming to the borders and I will kill you...</td>\n",
       "    </tr>\n",
       "    <tr>\n",
       "      <th>2</th>\n",
       "      <td>Borderlands</td>\n",
       "      <td>Positive</td>\n",
       "      <td>im getting on borderlands and i will kill you ...</td>\n",
       "    </tr>\n",
       "    <tr>\n",
       "      <th>3</th>\n",
       "      <td>Borderlands</td>\n",
       "      <td>Positive</td>\n",
       "      <td>im coming on borderlands and i will murder you...</td>\n",
       "    </tr>\n",
       "    <tr>\n",
       "      <th>4</th>\n",
       "      <td>Borderlands</td>\n",
       "      <td>Positive</td>\n",
       "      <td>im getting on borderlands 2 and i will murder ...</td>\n",
       "    </tr>\n",
       "  </tbody>\n",
       "</table>\n",
       "</div>"
      ],
      "text/plain": [
       "      Feature2    labels                                           Feature1\n",
       "0  Borderlands  Positive  im getting on borderlands and i will murder yo...\n",
       "1  Borderlands  Positive  I am coming to the borders and I will kill you...\n",
       "2  Borderlands  Positive  im getting on borderlands and i will kill you ...\n",
       "3  Borderlands  Positive  im coming on borderlands and i will murder you...\n",
       "4  Borderlands  Positive  im getting on borderlands 2 and i will murder ..."
      ]
     },
     "execution_count": 8,
     "metadata": {},
     "output_type": "execute_result"
    }
   ],
   "source": [
    "df.head()"
   ]
  },
  {
   "cell_type": "code",
   "execution_count": 9,
   "id": "f4865e27-ddc1-4185-9b9e-a8608659a8e9",
   "metadata": {
    "colab": {
     "base_uri": "https://localhost:8080/",
     "height": 206
    },
    "id": "f4865e27-ddc1-4185-9b9e-a8608659a8e9",
    "outputId": "3235418a-ce61-4f90-cfe9-a79d57d93814",
    "tags": []
   },
   "outputs": [
    {
     "data": {
      "text/html": [
       "<div>\n",
       "<style scoped>\n",
       "    .dataframe tbody tr th:only-of-type {\n",
       "        vertical-align: middle;\n",
       "    }\n",
       "\n",
       "    .dataframe tbody tr th {\n",
       "        vertical-align: top;\n",
       "    }\n",
       "\n",
       "    .dataframe thead th {\n",
       "        text-align: right;\n",
       "    }\n",
       "</style>\n",
       "<table border=\"1\" class=\"dataframe\">\n",
       "  <thead>\n",
       "    <tr style=\"text-align: right;\">\n",
       "      <th></th>\n",
       "      <th>labels</th>\n",
       "      <th>tweets</th>\n",
       "    </tr>\n",
       "  </thead>\n",
       "  <tbody>\n",
       "    <tr>\n",
       "      <th>0</th>\n",
       "      <td>Positive</td>\n",
       "      <td>im getting on borderlands and i will murder yo...</td>\n",
       "    </tr>\n",
       "    <tr>\n",
       "      <th>1</th>\n",
       "      <td>Positive</td>\n",
       "      <td>I am coming to the borders and I will kill you...</td>\n",
       "    </tr>\n",
       "    <tr>\n",
       "      <th>2</th>\n",
       "      <td>Positive</td>\n",
       "      <td>im getting on borderlands and i will kill you ...</td>\n",
       "    </tr>\n",
       "    <tr>\n",
       "      <th>3</th>\n",
       "      <td>Positive</td>\n",
       "      <td>im coming on borderlands and i will murder you...</td>\n",
       "    </tr>\n",
       "    <tr>\n",
       "      <th>4</th>\n",
       "      <td>Positive</td>\n",
       "      <td>im getting on borderlands 2 and i will murder ...</td>\n",
       "    </tr>\n",
       "  </tbody>\n",
       "</table>\n",
       "</div>"
      ],
      "text/plain": [
       "     labels                                             tweets\n",
       "0  Positive  im getting on borderlands and i will murder yo...\n",
       "1  Positive  I am coming to the borders and I will kill you...\n",
       "2  Positive  im getting on borderlands and i will kill you ...\n",
       "3  Positive  im coming on borderlands and i will murder you...\n",
       "4  Positive  im getting on borderlands 2 and i will murder ..."
      ]
     },
     "execution_count": 9,
     "metadata": {},
     "output_type": "execute_result"
    }
   ],
   "source": [
    "df[\"tweets\"]= df[\"Feature1\"].astype(str) +\" \"+ df[\"Feature2\"].astype(str)\n",
    "df= df.drop([\"Feature1\",\"Feature2\"],axis=1)\n",
    "df.head()"
   ]
  },
  {
   "cell_type": "code",
   "execution_count": 10,
   "id": "3dfd36ef-dd09-4466-8a13-31a89fdc114d",
   "metadata": {
    "colab": {
     "base_uri": "https://localhost:8080/"
    },
    "id": "3dfd36ef-dd09-4466-8a13-31a89fdc114d",
    "outputId": "c6db44bc-94d7-45a1-f909-e0617f6a8cea",
    "tags": []
   },
   "outputs": [
    {
     "data": {
      "text/plain": [
       "{'Irrelevant': 0, 'Negative': 1, 'Neutral': 2, 'Positive': 3}"
      ]
     },
     "execution_count": 10,
     "metadata": {},
     "output_type": "execute_result"
    }
   ],
   "source": [
    "df_labels = {key : value for value , key in enumerate(np.unique(df['labels']))}\n",
    "df_labels"
   ]
  },
  {
   "cell_type": "code",
   "execution_count": 11,
   "id": "52c234fc-dae7-40e0-a9d0-aadafb8795fe",
   "metadata": {
    "id": "52c234fc-dae7-40e0-a9d0-aadafb8795fe",
    "tags": []
   },
   "outputs": [],
   "source": [
    "def getlabel(n) :\n",
    "    for x , y in df_labels.items() :\n",
    "        if y==n :\n",
    "            return x"
   ]
  },
  {
   "cell_type": "code",
   "execution_count": 19,
   "id": "43c83fa9-5a14-466a-aebd-c1a8ef4ed15b",
   "metadata": {
    "id": "43c83fa9-5a14-466a-aebd-c1a8ef4ed15b",
    "tags": []
   },
   "outputs": [],
   "source": [
    "def DataPrep(text) :\n",
    "    text = re.sub('<.*?>', '', text) # HTML tags\n",
    "    text = re.sub(r'\\d+', '', text) # numbers\n",
    "    text = re.sub(r'[^\\w\\s]', '', text) # special characters\n",
    "    text = re.sub(r'http\\S+', '', text) # URLs or web links\n",
    "    text = re.sub(r'@\\S+', '', text) # mentions\n",
    "    text = re.sub(r'#\\S+', '', text) # hashtags\n",
    "\n",
    "    # tokenization\n",
    "    tokens = nltk.word_tokenize(text)\n",
    "\n",
    "    # remove puncs\n",
    "    punc = list(punctuation)\n",
    "    words = [word for word in tokens if word not in punc]\n",
    "\n",
    "    # remove stopwords\n",
    "    stop_words = set(stopwords.words('english'))\n",
    "    words = [word for word in words if not word.lower() in stop_words]\n",
    "\n",
    "    # Lemmatization\n",
    "    words = [lemma.lemmatize(word) for word in words]\n",
    "\n",
    "    text = ' '.join(words)\n",
    "\n",
    "    return text"
   ]
  },
  {
   "cell_type": "code",
   "execution_count": 29,
   "id": "97998a97-bb73-40a9-b346-238fa9de85ff",
   "metadata": {
    "id": "97998a97-bb73-40a9-b346-238fa9de85ff",
    "tags": []
   },
   "outputs": [
    {
     "name": "stderr",
     "output_type": "stream",
     "text": [
      "[nltk_data] Downloading package punkt_tab to\n",
      "[nltk_data]     C:\\Users\\user\\AppData\\Roaming\\nltk_data...\n",
      "[nltk_data]   Unzipping tokenizers\\punkt_tab.zip.\n"
     ]
    }
   ],
   "source": [
    "import nltk\n",
    "nltk.download('punkt_tab')\n",
    "df['cleaned_tweets'] = df['tweets'].apply(DataPrep)"
   ]
  },
  {
   "cell_type": "code",
   "execution_count": 30,
   "id": "1a544e64-ca2b-4733-bdee-52857485ec43",
   "metadata": {
    "colab": {
     "base_uri": "https://localhost:8080/"
    },
    "id": "1a544e64-ca2b-4733-bdee-52857485ec43",
    "outputId": "aeb68fbb-c0a8-428e-ec49-dc039db7a14b",
    "tags": []
   },
   "outputs": [
    {
     "name": "stdout",
     "output_type": "stream",
     "text": [
      "There are around 11865 duplicated tweets, we will remove them.\n"
     ]
    }
   ],
   "source": [
    "print(f'There are around {int(df[\"cleaned_tweets\"].duplicated().sum())} duplicated tweets, we will remove them.')\n",
    "df.drop_duplicates(\"cleaned_tweets\", inplace=True)\n",
    "df['tweet_len'] = [len(text.split()) for text in df.cleaned_tweets]\n",
    "df = df[df['tweet_len'] < df['tweet_len'].quantile(0.995)]"
   ]
  },
  {
   "cell_type": "code",
   "execution_count": 31,
   "id": "4e2ba871-5e42-4f6e-bfa2-df3bbae1df9d",
   "metadata": {
    "colab": {
     "base_uri": "https://localhost:8080/",
     "height": 481
    },
    "id": "4e2ba871-5e42-4f6e-bfa2-df3bbae1df9d",
    "outputId": "8757b73a-5041-49c2-e068-6c5428bc5c9c",
    "tags": []
   },
   "outputs": [
    {
     "name": "stderr",
     "output_type": "stream",
     "text": [
      "C:\\Users\\user\\AppData\\Local\\Temp\\ipykernel_25392\\3327703625.py:2: FutureWarning: \n",
      "\n",
      "Passing `palette` without assigning `hue` is deprecated and will be removed in v0.14.0. Assign the `x` variable to `hue` and set `legend=False` for the same effect.\n",
      "\n",
      "  ax = sns.countplot(x='tweet_len', data=df[(df['tweet_len']<=1000) & (df['tweet_len']>10)], palette='Blues_r')\n"
     ]
    },
    {
     "data": {
      "image/png": "[encoded data removed]",
      "text/plain": [
       "<Figure size 1600x500 with 1 Axes>"
      ]
     },
     "metadata": {},
     "output_type": "display_data"
    }
   ],
   "source": [
    "plt.figure(figsize=(16,5))\n",
    "ax = sns.countplot(x='tweet_len', data=df[(df['tweet_len']<=1000) & (df['tweet_len']>10)], palette='Blues_r')\n",
    "plt.title('Count of tweets with high number of words', fontsize=25)\n",
    "plt.yticks([])\n",
    "ax.bar_label(ax.containers[0])\n",
    "plt.ylabel('count')\n",
    "plt.xlabel('')\n",
    "plt.show()"
   ]
  },
  {
   "cell_type": "markdown",
   "id": "e0d38d93-ce3b-41b9-b15c-f5a23cff226e",
   "metadata": {
    "id": "e0d38d93-ce3b-41b9-b15c-f5a23cff226e"
   },
   "source": [
    "## Обучаем модели"
   ]
  },
  {
   "cell_type": "code",
   "execution_count": 32,
   "id": "7d6956de-978a-4baf-846b-ab6369b08565",
   "metadata": {
    "id": "7d6956de-978a-4baf-846b-ab6369b08565",
    "tags": []
   },
   "outputs": [],
   "source": [
    "MAX_LEN = np.max(df['tweet_len'])"
   ]
  },
  {
   "cell_type": "code",
   "execution_count": 33,
   "id": "bb165366-48d9-4c16-9523-4a268fffdc74",
   "metadata": {
    "id": "bb165366-48d9-4c16-9523-4a268fffdc74",
    "tags": []
   },
   "outputs": [],
   "source": [
    "def lstm_prep(column , seq_len) :\n",
    "    # create a vocab of words\n",
    "    corpus = [word for text in column for word in text.split()]\n",
    "    words_count = Counter(corpus)\n",
    "    sorted_words = words_count.most_common()\n",
    "    vocab_to_int = {w:i+1 for i , (w,c) in enumerate(sorted_words)}\n",
    "\n",
    "    text_int = []\n",
    "\n",
    "    for text in column :\n",
    "        token = [vocab_to_int[word] for word in text.split()]\n",
    "        text_int.append(token)\n",
    "\n",
    "\n",
    "    # padding\n",
    "    features = np.zeros((len(text_int) , seq_len) , dtype = int)\n",
    "    for idx , y in tqdm(enumerate(text_int)) :\n",
    "        if len(y) <= seq_len :\n",
    "            zeros = list(np.zeros(seq_len - len(y)))\n",
    "            new = zeros + y\n",
    "\n",
    "        else :\n",
    "            new = y[:seq_len]\n",
    "\n",
    "        features[idx,:] = np.array(new)\n",
    "\n",
    "    return sorted_words, features"
   ]
  },
  {
   "cell_type": "code",
   "execution_count": 34,
   "id": "de28571c-3aec-4d38-b01c-ccd6f43d2400",
   "metadata": {
    "colab": {
     "base_uri": "https://localhost:8080/",
     "height": 49,
     "referenced_widgets": [
      "988cb50d61814882bcd49ce664bd4037",
      "e2970576851947db864818d56e6d7e0f",
      "372fd1e02ba44c2f86b7f52f9666e1f8",
      "dc6a56759030435293fee0ebe27bebbb",
      "45b6c93a675746868aefdd78cef39cca",
      "e87b689459ea42e7a8ee0e2726d8b1af",
      "9909df9d3ec84edba96a3f29b133b022",
      "dd2ac609cc9c4ea0ba2baf43d4743601",
      "af2795edca7d4581bb98ee0e941a374e",
      "ef82e89f2702469586e3086b2369bd35",
      "f58ad3248f5940198c85deec3567b853"
     ]
    },
    "id": "de28571c-3aec-4d38-b01c-ccd6f43d2400",
    "outputId": "b3a05822-2d4d-4234-abef-94b49d85c4b1",
    "tags": []
   },
   "outputs": [
    {
     "data": {
      "application/vnd.jupyter.widget-view+json": {
       "model_id": "b5e38727ec25459b952b95c091a9dcea",
       "version_major": 2,
       "version_minor": 0
      },
      "text/plain": [
       "0it [00:00, ?it/s]"
      ]
     },
     "metadata": {},
     "output_type": "display_data"
    }
   ],
   "source": [
    "VOCAB , tokenized_column = lstm_prep(df['cleaned_tweets'] , MAX_LEN)"
   ]
  },
  {
   "cell_type": "code",
   "execution_count": 35,
   "id": "3bc11ded-cc0a-40df-84e1-bec1e54721ee",
   "metadata": {
    "colab": {
     "base_uri": "https://localhost:8080/"
    },
    "id": "3bc11ded-cc0a-40df-84e1-bec1e54721ee",
    "outputId": "b1228cec-9872-4cf7-b5e6-8b59494adb52",
    "tags": []
   },
   "outputs": [
    {
     "data": {
      "text/plain": [
       "[('game', 8616),\n",
       " ('like', 4206),\n",
       " ('Im', 3715),\n",
       " ('Microsoft', 3635),\n",
       " ('Facebook', 3633),\n",
       " ('get', 3621),\n",
       " ('Amazon', 3456),\n",
       " ('Verizon', 3411),\n",
       " ('Google', 3266),\n",
       " ('Battlefield', 3133)]"
      ]
     },
     "execution_count": 35,
     "metadata": {},
     "output_type": "execute_result"
    }
   ],
   "source": [
    "VOCAB[:10]"
   ]
  },
  {
   "cell_type": "code",
   "execution_count": 36,
   "id": "b811eee9-dffa-4a38-96f4-76d97971267d",
   "metadata": {
    "colab": {
     "base_uri": "https://localhost:8080/"
    },
    "id": "b811eee9-dffa-4a38-96f4-76d97971267d",
    "outputId": "58c193d6-2f54-49c4-bd26-6ea33ffa62e7",
    "tags": []
   },
   "outputs": [
    {
     "data": {
      "text/plain": [
       "(62400, 34)"
      ]
     },
     "execution_count": 36,
     "metadata": {},
     "output_type": "execute_result"
    }
   ],
   "source": [
    "tokenized_column.shape"
   ]
  },
  {
   "cell_type": "code",
   "execution_count": 37,
   "id": "129b0be6-eac8-4c99-b48b-47b770eb3720",
   "metadata": {
    "colab": {
     "base_uri": "https://localhost:8080/",
     "height": 517
    },
    "id": "129b0be6-eac8-4c99-b48b-47b770eb3720",
    "outputId": "cea9d1f4-2ea4-4a8f-ce04-e2e037927423",
    "tags": []
   },
   "outputs": [
    {
     "data": {
      "image/png": "[encoded data removed]",
      "text/plain": [
       "<Figure size 1500x500 with 1 Axes>"
      ]
     },
     "metadata": {},
     "output_type": "display_data"
    }
   ],
   "source": [
    "def most_common_words(vocab) :\n",
    "    keys = []\n",
    "    values = []\n",
    "    for key , value in vocab[:30] :\n",
    "        keys.append(key)\n",
    "        values.append(value)\n",
    "\n",
    "    plt.figure(figsize=(15, 5))\n",
    "    ax = plt.bar(keys, values)\n",
    "    plt.title('Top 20 most common words', size=25)\n",
    "    plt.ylabel(\"Words count\")\n",
    "    plt.xticks(rotation=45)\n",
    "    plt.subplots_adjust(bottom=0.15)\n",
    "    plt.show()\n",
    "\n",
    "most_common_words(VOCAB)"
   ]
  },
  {
   "cell_type": "code",
   "execution_count": 38,
   "id": "d44bb059-aaab-4767-9307-7fcb8fd2380d",
   "metadata": {
    "id": "d44bb059-aaab-4767-9307-7fcb8fd2380d",
    "tags": []
   },
   "outputs": [],
   "source": [
    "X = tokenized_column\n",
    "y = lb.fit_transform(df['labels'].values)"
   ]
  },
  {
   "cell_type": "code",
   "execution_count": 39,
   "id": "4099d1d5-c88d-4c49-b0f0-32d421a5c2ec",
   "metadata": {
    "id": "4099d1d5-c88d-4c49-b0f0-32d421a5c2ec",
    "tags": []
   },
   "outputs": [],
   "source": [
    "X_train , X_val , Y_train , Y_val = train_test_split(X , y , train_size=0.85 , random_state=42)"
   ]
  },
  {
   "cell_type": "code",
   "execution_count": 40,
   "id": "e4fc9f98-8aba-4af7-80c6-f16a71227b7c",
   "metadata": {
    "id": "e4fc9f98-8aba-4af7-80c6-f16a71227b7c",
    "tags": []
   },
   "outputs": [],
   "source": [
    "train_data = TensorDataset(torch.from_numpy(X_train), torch.LongTensor(Y_train))\n",
    "val_data = TensorDataset(torch.from_numpy(X_val), torch.LongTensor(Y_val))"
   ]
  },
  {
   "cell_type": "code",
   "execution_count": 41,
   "id": "36540bdd-1e95-46ee-895d-51d3826f4f01",
   "metadata": {
    "id": "36540bdd-1e95-46ee-895d-51d3826f4f01",
    "tags": []
   },
   "outputs": [],
   "source": [
    "BATCH_SIZE = 64\n",
    "train_dataloader = DataLoader(\n",
    "    dataset = train_data ,\n",
    "    batch_size=BATCH_SIZE ,\n",
    "    shuffle=True\n",
    ")\n",
    "val_dataloader = DataLoader(\n",
    "    dataset = val_data ,\n",
    "    batch_size = BATCH_SIZE ,\n",
    "    shuffle=False\n",
    ")"
   ]
  },
  {
   "cell_type": "code",
   "execution_count": 42,
   "id": "40c5a08c-d8de-4172-ad56-4c573ada9189",
   "metadata": {
    "id": "40c5a08c-d8de-4172-ad56-4c573ada9189",
    "tags": []
   },
   "outputs": [],
   "source": [
    "EMBEDDING_DIM = 200"
   ]
  },
  {
   "cell_type": "code",
   "execution_count": 43,
   "id": "c164d0ba-a694-4cf9-aca0-c0ed5fee392d",
   "metadata": {
    "id": "c164d0ba-a694-4cf9-aca0-c0ed5fee392d",
    "tags": []
   },
   "outputs": [],
   "source": [
    "Word2vec_train_data = list(map(lambda x: x.split(), df['cleaned_tweets']))\n",
    "word2vec_model = Word2Vec(Word2vec_train_data, vector_size=EMBEDDING_DIM)"
   ]
  },
  {
   "cell_type": "code",
   "execution_count": 45,
   "id": "ad971995-31e4-45e6-8cda-fbe9c4952d19",
   "metadata": {
    "id": "ad971995-31e4-45e6-8cda-fbe9c4952d19",
    "tags": []
   },
   "outputs": [],
   "source": [
    "def weight_matrix(model,vocab):\n",
    "    vocab_size= len(vocab)+1\n",
    "    embedding_matrix = np.zeros((vocab_size,EMBEDDING_DIM))\n",
    "    for word, token in vocab:\n",
    "        if model.wv.__contains__(word):\n",
    "            embedding_matrix[token]=model.wv.__getitem__(word)\n",
    "    return embedding_matrix"
   ]
  },
  {
   "cell_type": "code",
   "execution_count": 46,
   "id": "6a85a4bf-c99a-4d24-ba23-81b5371608c4",
   "metadata": {
    "colab": {
     "base_uri": "https://localhost:8080/"
    },
    "id": "6a85a4bf-c99a-4d24-ba23-81b5371608c4",
    "outputId": "6f87fe41-ab1e-4b58-b206-507f61fd3b27",
    "tags": []
   },
   "outputs": [
    {
     "name": "stdout",
     "output_type": "stream",
     "text": [
      "Embedding Matrix Shape: (43365, 200)\n"
     ]
    }
   ],
   "source": [
    "embedding_vec = weight_matrix(word2vec_model,VOCAB)\n",
    "print(\"Embedding Matrix Shape:\", embedding_vec.shape)"
   ]
  },
  {
   "cell_type": "code",
   "execution_count": 52,
   "id": "f0e15256-74c3-4963-8bb3-da6c9cd7e8b3",
   "metadata": {
    "id": "f0e15256-74c3-4963-8bb3-da6c9cd7e8b3",
    "tags": []
   },
   "outputs": [],
   "source": [
    "def param_count(model):\n",
    "    params = [p.numel() for p in model.parameters() if p.requires_grad]\n",
    "    print('The Total number of parameters in the model : ', sum(params))"
   ]
  },
  {
   "cell_type": "code",
   "execution_count": 53,
   "id": "8664ab03-0749-4896-8f15-8d152302cc70",
   "metadata": {
    "id": "8664ab03-0749-4896-8f15-8d152302cc70",
    "tags": []
   },
   "outputs": [],
   "source": [
    "class Model(nn.Module) :\n",
    "    def __init__(self , vocab_size , embedding_dim\n",
    "                 , num_layers , hidden_dim , out_channels , bidirectional, device='cpu') :\n",
    "        super().__init__()\n",
    "        print(device)\n",
    "        self.no_layers = num_layers\n",
    "        self.hidden_dim = hidden_dim\n",
    "        self.out_channels = out_channels\n",
    "        self.num_directions = 2 if bidirectional else 1\n",
    "        self.embedding = nn.Embedding(vocab_size , embedding_dim)\n",
    "        self.embedding = self.embedding.to(device)\n",
    "        self.device = device\n",
    "        self.lstm = nn.LSTM(\n",
    "            embedding_dim ,\n",
    "            hidden_dim ,\n",
    "            num_layers ,\n",
    "            dropout = 0.5 ,\n",
    "            bidirectional = bidirectional ,\n",
    "            batch_first = True\n",
    "        )\n",
    "        self.lstm = self.lstm.to(device)\n",
    "\n",
    "        self.fc = nn.Linear(hidden_dim*self.num_directions , out_channels)\n",
    "        self.fc = self.fc.to(device)\n",
    "\n",
    "\n",
    "    def forward(self , x) :\n",
    "        h0 = torch.zeros((self.no_layers * self.num_directions , x.size(0) , self.hidden_dim)).to(self.device)\n",
    "        c0 = torch.zeros((self.no_layers * self.num_directions , x.size(0) , self.hidden_dim)).to(self.device)\n",
    "\n",
    "        embedded = self.embedding(x)\n",
    "\n",
    "        out , _ = self.lstm(embedded , (h0 , c0))\n",
    "\n",
    "        out = out[:,-1,:]\n",
    "\n",
    "        out = self.fc(out)\n",
    "\n",
    "        return out"
   ]
  },
  {
   "cell_type": "code",
   "execution_count": 54,
   "id": "be721827-b1f7-4987-8b09-9f29cdcb280f",
   "metadata": {
    "colab": {
     "base_uri": "https://localhost:8080/"
    },
    "id": "be721827-b1f7-4987-8b09-9f29cdcb280f",
    "outputId": "7f30917c-3d0f-4422-9b68-6c2ed0f8dcb0",
    "tags": []
   },
   "outputs": [
    {
     "name": "stdout",
     "output_type": "stream",
     "text": [
      "cpu\n"
     ]
    }
   ],
   "source": [
    "VOCAB_SIZE = len(VOCAB) + 1\n",
    "NUM_LAYERS = 2\n",
    "OUT_CHANNELS = 4\n",
    "HIDDEN_DIM = 256\n",
    "BIDIRECTIONAL = True\n",
    "DEVICE = 'cuda' if torch.cuda.is_available() else 'cpu'\n",
    "\n",
    "model = Model(VOCAB_SIZE , EMBEDDING_DIM , NUM_LAYERS , HIDDEN_DIM , OUT_CHANNELS , BIDIRECTIONAL, DEVICE)\n",
    "\n",
    "model.embedding.weight.data.copy_(torch.from_numpy(embedding_vec))\n",
    "\n",
    "model.embedding.weight.requires_grad = True\n",
    "\n",
    "if torch.cuda.is_available():\n",
    "    model = model.cuda()"
   ]
  },
  {
   "cell_type": "code",
   "execution_count": 55,
   "id": "afed9a4f-e5b6-4afa-b994-6c77a086b621",
   "metadata": {
    "colab": {
     "base_uri": "https://localhost:8080/"
    },
    "id": "afed9a4f-e5b6-4afa-b994-6c77a086b621",
    "outputId": "2155377a-a746-4ada-b249-8bf9463a412b",
    "tags": []
   },
   "outputs": [
    {
     "name": "stdout",
     "output_type": "stream",
     "text": [
      "The Total number of parameters in the model :  11189996\n"
     ]
    }
   ],
   "source": [
    "param_count(model)"
   ]
  },
  {
   "cell_type": "code",
   "execution_count": 56,
   "id": "65df6e07-513d-4c71-8ece-2f2eb4c3a94c",
   "metadata": {
    "colab": {
     "base_uri": "https://localhost:8080/",
     "height": 1000,
     "referenced_widgets": [
      "7d7de408982f4f45b44b6d2b5bc893c2",
      "3ab2a2d53ba54fdca08f49eef10b43fa",
      "f22bee15194e4e2a8cedd37c895e90df",
      "76b3d449ebb24746933f4e4718db19d2",
      "bed25a5493e546b8b4b25d516991f8dd",
      "b0a757af688f4c62ba76fd9f7fce09df",
      "52ef6afc0db04308a9aca8038b2acc32",
      "cccc2dff59334824974e3baa10193470",
      "d0ae3e875c284a86bc47de3a1082bf3d",
      "72a7f0df5a6140ea9265c09862bab2ce",
      "dd0711787d9a44c6b884307cfb7c97d6"
     ]
    },
    "id": "65df6e07-513d-4c71-8ece-2f2eb4c3a94c",
    "outputId": "2aa9accf-d3a4-475d-99e8-a3fd4deb9ccf",
    "tags": []
   },
   "outputs": [
    {
     "data": {
      "application/vnd.jupyter.widget-view+json": {
       "model_id": "c183df7274174feda4e07103629d38d6",
       "version_major": 2,
       "version_minor": 0
      },
      "text/plain": [
       "  0%|          | 0/16 [00:00<?, ?it/s]"
      ]
     },
     "metadata": {},
     "output_type": "display_data"
    },
    {
     "name": "stdout",
     "output_type": "stream",
     "text": [
      "Looked at 0/53040 samples.\n",
      "Looked at 32000/53040 samples.\n",
      "Epoch 1: Accuracy: 39.81516385203056, Loss: 1.2728872299194336\n",
      "\n",
      "\n",
      "Looked at 0/53040 samples.\n",
      "Looked at 32000/53040 samples.\n",
      "Epoch 2: Accuracy: 64.67506031363088, Loss: 0.8790683150291443\n",
      "\n",
      "\n",
      "Looked at 0/53040 samples.\n",
      "Looked at 32000/53040 samples.\n",
      "Epoch 3: Accuracy: 79.29608966626458, Loss: 0.5599748492240906\n",
      "\n",
      "\n",
      "Looked at 0/53040 samples.\n",
      "Looked at 32000/53040 samples.\n",
      "Epoch 4: Accuracy: 86.91571170084438, Loss: 0.368903785943985\n",
      "\n",
      "\n",
      "Looked at 0/53040 samples.\n",
      "Looked at 32000/53040 samples.\n",
      "Epoch 5: Accuracy: 90.73117712102936, Loss: 0.26498663425445557\n",
      "\n",
      "\n",
      "Looked at 0/53040 samples.\n",
      "Looked at 32000/53040 samples.\n",
      "Epoch 6: Accuracy: 92.84843687173301, Loss: 0.2060127556324005\n",
      "\n",
      "\n",
      "Looked at 0/53040 samples.\n",
      "Looked at 32000/53040 samples.\n",
      "Epoch 7: Accuracy: 94.17973462002412, Loss: 0.16949695348739624\n",
      "\n",
      "\n",
      "Looked at 0/53040 samples.\n",
      "Looked at 32000/53040 samples.\n",
      "Epoch 8: Accuracy: 95.1196220345798, Loss: 0.14151199162006378\n",
      "\n",
      "\n",
      "Looked at 0/53040 samples.\n",
      "Looked at 32000/53040 samples.\n",
      "Epoch 9: Accuracy: 95.62474869320467, Loss: 0.126731738448143\n",
      "\n",
      "\n",
      "Looked at 0/53040 samples.\n",
      "Looked at 32000/53040 samples.\n",
      "Epoch 10: Accuracy: 96.17071270607158, Loss: 0.11093034595251083\n",
      "\n",
      "\n",
      "Looked at 0/53040 samples.\n",
      "Looked at 32000/53040 samples.\n",
      "Epoch 11: Accuracy: 96.45091978287093, Loss: 0.10150514543056488\n",
      "\n",
      "\n",
      "Looked at 0/53040 samples.\n",
      "Looked at 32000/53040 samples.\n",
      "Epoch 12: Accuracy: 96.62494973864094, Loss: 0.09668168425559998\n",
      "\n",
      "\n",
      "Looked at 0/53040 samples.\n",
      "Looked at 32000/53040 samples.\n",
      "Epoch 13: Accuracy: 96.97615098512263, Loss: 0.08640222251415253\n",
      "\n",
      "\n",
      "Looked at 0/53040 samples.\n",
      "Looked at 32000/53040 samples.\n",
      "Epoch 14: Accuracy: 97.27583433856051, Loss: 0.07661563903093338\n",
      "\n",
      "\n",
      "Looked at 0/53040 samples.\n",
      "Looked at 32000/53040 samples.\n",
      "Epoch 15: Accuracy: 97.46494270205066, Loss: 0.07302763313055038\n",
      "\n",
      "\n",
      "Looked at 0/53040 samples.\n",
      "Looked at 32000/53040 samples.\n",
      "Epoch 16: Accuracy: 97.54536087655809, Loss: 0.06975361704826355\n",
      "\n",
      "\n"
     ]
    }
   ],
   "source": [
    "criterion=nn.CrossEntropyLoss()\n",
    "optimizer=Adam(model.parameters(),lr=0.0001)\n",
    "\n",
    "epochs = 16\n",
    "training_loss = []\n",
    "training_acc = []\n",
    "for i in tqdm(range(epochs)) :\n",
    "    epoch_loss = 0\n",
    "    epoch_acc = 0\n",
    "    for batch , (x_train , y_train) in enumerate(train_dataloader) :\n",
    "        x_train , y_train = x_train.to(DEVICE), y_train.to(DEVICE)\n",
    "        y_pred = model(x_train)\n",
    "\n",
    "        loss = criterion(y_pred , y_train)\n",
    "\n",
    "        if batch % 500 == 0:\n",
    "            print(f\"Looked at {batch * len(x_train)}/{len(train_dataloader.dataset)} samples.\")\n",
    "\n",
    "        loss.backward()\n",
    "        optimizer.step()\n",
    "        optimizer.zero_grad()\n",
    "\n",
    "        epoch_loss +=loss\n",
    "        epoch_acc += accuracy_score(y_train.cpu() , y_pred.argmax(dim=1).cpu())\n",
    "\n",
    "    training_loss.append((epoch_loss/len(train_dataloader)).detach().cpu().numpy())\n",
    "    training_acc.append(epoch_acc/len(train_dataloader))\n",
    "\n",
    "    print(f\"Epoch {i+1}: Accuracy: {(epoch_acc/len(train_dataloader)) * 100}, Loss: {(epoch_loss/len(train_dataloader))}\\n\\n\")"
   ]
  },
  {
   "cell_type": "code",
   "execution_count": 73,
   "id": "ea3a0087",
   "metadata": {},
   "outputs": [
    {
     "data": {
      "image/png": "[encoded data removed]",
      "text/plain": [
       "<Figure size 640x480 with 1 Axes>"
      ]
     },
     "metadata": {},
     "output_type": "display_data"
    }
   ],
   "source": [
    "import matplotlib.pyplot as plt\n",
    "x = list(range(1, 17))\n",
    "plt.plot(x, training_acc)\n",
    "plt.title('График обучения модели')\n",
    "plt.xlabel('epochs')\n",
    "plt.ylabel('accuracy')\n",
    "plt.show()\n"
   ]
  },
  {
   "cell_type": "markdown",
   "id": "89a6048c-b946-4351-9c6a-04bbd9e980d8",
   "metadata": {
    "id": "89a6048c-b946-4351-9c6a-04bbd9e980d8"
   },
   "source": [
    "## Время Prediction"
   ]
  },
  {
   "cell_type": "code",
   "execution_count": 61,
   "id": "cad25633-d40c-4499-9081-cae5963f24a0",
   "metadata": {
    "colab": {
     "base_uri": "https://localhost:8080/",
     "height": 432
    },
    "id": "cad25633-d40c-4499-9081-cae5963f24a0",
    "outputId": "c0364996-0402-4b21-87dc-313211c45e12",
    "tags": []
   },
   "outputs": [
    {
     "name": "stdout",
     "output_type": "stream",
     "text": [
      "      0          1           2  \\\n",
      "0  3364   Facebook  Irrelevant   \n",
      "1   352     Amazon     Neutral   \n",
      "2  8312  Microsoft    Negative   \n",
      "3  4371      CS-GO    Negative   \n",
      "4  4433     Google     Neutral   \n",
      "\n",
      "                                                   3  \n",
      "0  I mentioned on Facebook that I was struggling ...  \n",
      "1  BBC News - Amazon boss Jeff Bezos rejects clai...  \n",
      "2  @Microsoft Why do I pay for WORD when it funct...  \n",
      "3  CSGO matchmaking is so full of closet hacking,...  \n",
      "4  Now the President is slapping Americans in the...  \n"
     ]
    },
    {
     "data": {
      "text/html": [
       "<div>\n",
       "<style scoped>\n",
       "    .dataframe tbody tr th:only-of-type {\n",
       "        vertical-align: middle;\n",
       "    }\n",
       "\n",
       "    .dataframe tbody tr th {\n",
       "        vertical-align: top;\n",
       "    }\n",
       "\n",
       "    .dataframe thead th {\n",
       "        text-align: right;\n",
       "    }\n",
       "</style>\n",
       "<table border=\"1\" class=\"dataframe\">\n",
       "  <thead>\n",
       "    <tr style=\"text-align: right;\">\n",
       "      <th></th>\n",
       "      <th>Feature2</th>\n",
       "      <th>labels</th>\n",
       "      <th>Feature1</th>\n",
       "    </tr>\n",
       "  </thead>\n",
       "  <tbody>\n",
       "    <tr>\n",
       "      <th>0</th>\n",
       "      <td>Facebook</td>\n",
       "      <td>Irrelevant</td>\n",
       "      <td>I mentioned on Facebook that I was struggling ...</td>\n",
       "    </tr>\n",
       "    <tr>\n",
       "      <th>1</th>\n",
       "      <td>Amazon</td>\n",
       "      <td>Neutral</td>\n",
       "      <td>BBC News - Amazon boss Jeff Bezos rejects clai...</td>\n",
       "    </tr>\n",
       "    <tr>\n",
       "      <th>2</th>\n",
       "      <td>Microsoft</td>\n",
       "      <td>Negative</td>\n",
       "      <td>@Microsoft Why do I pay for WORD when it funct...</td>\n",
       "    </tr>\n",
       "    <tr>\n",
       "      <th>3</th>\n",
       "      <td>CS-GO</td>\n",
       "      <td>Negative</td>\n",
       "      <td>CSGO matchmaking is so full of closet hacking,...</td>\n",
       "    </tr>\n",
       "    <tr>\n",
       "      <th>4</th>\n",
       "      <td>Google</td>\n",
       "      <td>Neutral</td>\n",
       "      <td>Now the President is slapping Americans in the...</td>\n",
       "    </tr>\n",
       "  </tbody>\n",
       "</table>\n",
       "</div>"
      ],
      "text/plain": [
       "    Feature2      labels                                           Feature1\n",
       "0   Facebook  Irrelevant  I mentioned on Facebook that I was struggling ...\n",
       "1     Amazon     Neutral  BBC News - Amazon boss Jeff Bezos rejects clai...\n",
       "2  Microsoft    Negative  @Microsoft Why do I pay for WORD when it funct...\n",
       "3      CS-GO    Negative  CSGO matchmaking is so full of closet hacking,...\n",
       "4     Google     Neutral  Now the President is slapping Americans in the..."
      ]
     },
     "execution_count": 61,
     "metadata": {},
     "output_type": "execute_result"
    }
   ],
   "source": [
    "test_df = pd.read_csv('twitter_validation.csv', header=None)\n",
    "print(test_df.head())\n",
    "test_df = test_df.drop(0 , axis=1)\n",
    "\n",
    "test_df = test_df.rename(columns={1:\"Feature2\",3:\"Feature1\",2: \"labels\"})\n",
    "test_df.head()"
   ]
  },
  {
   "cell_type": "code",
   "execution_count": 62,
   "id": "52e5e398-a443-46a4-bcdb-c848d628de78",
   "metadata": {
    "id": "52e5e398-a443-46a4-bcdb-c848d628de78",
    "tags": []
   },
   "outputs": [],
   "source": [
    "test_df[\"tweets\"]= test_df[\"Feature1\"].astype(str) +\" \"+ test_df[\"Feature2\"].astype(str)\n",
    "test_df= test_df.drop([\"Feature1\",\"Feature2\"],axis=1)"
   ]
  },
  {
   "cell_type": "code",
   "execution_count": 59,
   "id": "4b16d583-63b3-4e18-8f32-beb87b25172f",
   "metadata": {
    "colab": {
     "base_uri": "https://localhost:8080/",
     "height": 206
    },
    "id": "4b16d583-63b3-4e18-8f32-beb87b25172f",
    "outputId": "6d72d46e-399a-43a1-c982-9e2694316fc6",
    "tags": []
   },
   "outputs": [
    {
     "data": {
      "text/html": [
       "<div>\n",
       "<style scoped>\n",
       "    .dataframe tbody tr th:only-of-type {\n",
       "        vertical-align: middle;\n",
       "    }\n",
       "\n",
       "    .dataframe tbody tr th {\n",
       "        vertical-align: top;\n",
       "    }\n",
       "\n",
       "    .dataframe thead th {\n",
       "        text-align: right;\n",
       "    }\n",
       "</style>\n",
       "<table border=\"1\" class=\"dataframe\">\n",
       "  <thead>\n",
       "    <tr style=\"text-align: right;\">\n",
       "      <th></th>\n",
       "      <th>labels</th>\n",
       "      <th>tweets</th>\n",
       "    </tr>\n",
       "  </thead>\n",
       "  <tbody>\n",
       "    <tr>\n",
       "      <th>0</th>\n",
       "      <td>Irrelevant</td>\n",
       "      <td>I mentioned on Facebook that I was struggling ...</td>\n",
       "    </tr>\n",
       "    <tr>\n",
       "      <th>1</th>\n",
       "      <td>Neutral</td>\n",
       "      <td>BBC News - Amazon boss Jeff Bezos rejects clai...</td>\n",
       "    </tr>\n",
       "    <tr>\n",
       "      <th>2</th>\n",
       "      <td>Negative</td>\n",
       "      <td>@Microsoft Why do I pay for WORD when it funct...</td>\n",
       "    </tr>\n",
       "    <tr>\n",
       "      <th>3</th>\n",
       "      <td>Negative</td>\n",
       "      <td>CSGO matchmaking is so full of closet hacking,...</td>\n",
       "    </tr>\n",
       "    <tr>\n",
       "      <th>4</th>\n",
       "      <td>Neutral</td>\n",
       "      <td>Now the President is slapping Americans in the...</td>\n",
       "    </tr>\n",
       "  </tbody>\n",
       "</table>\n",
       "</div>"
      ],
      "text/plain": [
       "       labels                                             tweets\n",
       "0  Irrelevant  I mentioned on Facebook that I was struggling ...\n",
       "1     Neutral  BBC News - Amazon boss Jeff Bezos rejects clai...\n",
       "2    Negative  @Microsoft Why do I pay for WORD when it funct...\n",
       "3    Negative  CSGO matchmaking is so full of closet hacking,...\n",
       "4     Neutral  Now the President is slapping Americans in the..."
      ]
     },
     "execution_count": 59,
     "metadata": {},
     "output_type": "execute_result"
    }
   ],
   "source": [
    "test_df.head()"
   ]
  },
  {
   "cell_type": "code",
   "execution_count": 63,
   "id": "488b7c6e-21fa-4b56-ac0c-10a016832770",
   "metadata": {
    "colab": {
     "base_uri": "https://localhost:8080/",
     "height": 396,
     "referenced_widgets": [
      "6fb462ae26074968a12fc366a41220f2",
      "2f4a0e60b01b44b58fd2a0061f6e79f3",
      "e57b4e6bdb5e4a7f9abcf62b702ef683",
      "9f25ff2366ad49e982b1876e9c0c62d4",
      "b0004c89be0040598085466bd6322545",
      "ff1d03fa344246f9bd7f95dc27a3dc36",
      "131f649420f04e94b9dd4a9dd76e04e9",
      "6d2468dce4134ec8a75b73b90062f3f5",
      "2a889e8e85344ba99bd00a88be5c9cd7",
      "bb17d9f473924bc69abc8158fb9722bf",
      "08bce6ca5e95403a938410a74bc50aa5",
      "3f4930b3fd124688aab40b37f57c6828",
      "e2ddecab43ef4162a75df55c411b15a9",
      "e3f67cd57c6a40d8ab842ea10736c0d1",
      "f762c2d76614451fa898985a0f1ce49c",
      "fdf3f996babc40a784b9e5668ea3d00a",
      "9a9681052cd24e3fb523e75659f44276",
      "90508e122cb1477fab175ea43d959cda",
      "2656000b50af427c857cede9d283a2e2",
      "afefa3bc07374b33b498611fdcd24728",
      "1632bf626d6a48cbba75a14d9d1f1767",
      "d3120738c3c04c8eb57ec5764c9eea72"
     ]
    },
    "id": "488b7c6e-21fa-4b56-ac0c-10a016832770",
    "outputId": "712b2b04-1c20-431c-c37e-3792763619f4",
    "tags": []
   },
   "outputs": [
    {
     "data": {
      "application/vnd.jupyter.widget-view+json": {
       "model_id": "5fe12a17ff7043d1bd91a8e0c3917cab",
       "version_major": 2,
       "version_minor": 0
      },
      "text/plain": [
       "0it [00:00, ?it/s]"
      ]
     },
     "metadata": {},
     "output_type": "display_data"
    },
    {
     "data": {
      "application/vnd.jupyter.widget-view+json": {
       "model_id": "31eee9ef4e6c46bf8345b2260cf701fd",
       "version_major": 2,
       "version_minor": 0
      },
      "text/plain": [
       "  0%|          | 0/2 [00:00<?, ?it/s]"
      ]
     },
     "metadata": {},
     "output_type": "display_data"
    },
    {
     "name": "stdout",
     "output_type": "stream",
     "text": [
      "The original tweet : *runs around aimlessly on Red Dead Redemption 2 online... completely forgetting she's supposed to be getting animals for the trader role* RedDeadRedemption(RDR)\n",
      "\n",
      "The original label : Neutral\n",
      "\n",
      "The lstm prediction is : Positive\n",
      "\n",
      "------------------------------------------------------------------------------------------------------------------------\n",
      "The original tweet : wtf I’m going to have to reinforce my desk to support this PlayStation5(PS5)\n",
      "\n",
      "The original label : Negative\n",
      "\n",
      "The lstm prediction is : Negative\n",
      "\n",
      "------------------------------------------------------------------------------------------------------------------------\n",
      "0.2\n"
     ]
    }
   ],
   "source": [
    "def make_predictions(row) :\n",
    "    random_data = row.sample(n=10)\n",
    "    random_tweets = random_data['tweets'].values\n",
    "\n",
    "    cleaned_tweets = []\n",
    "    for tweet in random_tweets :\n",
    "        cleaned_tweets.append(DataPrep(tweet))\n",
    "\n",
    "    vec = TfidfVectorizer()\n",
    "    vec.fit(cleaned_tweets)\n",
    "\n",
    "    x_test = vec.transform(cleaned_tweets).toarray()\n",
    "\n",
    "    y_test = random_data['labels'].values\n",
    "\n",
    "    _ , X_test = lstm_prep(cleaned_tweets , MAX_LEN)\n",
    "\n",
    "    X_test = torch.from_numpy(X_test).to(DEVICE)\n",
    "\n",
    "    lstm_pred = model(X_test)\n",
    "    lstm_pred = torch.softmax(lstm_pred , dim=1 ).argmax(dim=1)\n",
    "    pred = np.array([getlabel(lstm_pred[i]) for i in range(len(lstm_pred))])\n",
    "    for i in tqdm(range(2)) :\n",
    "        print(f\"The original tweet : {random_tweets[i]}\\n\")\n",
    "        print(f\"The original label : {y_test[i]}\\n\")\n",
    "        print(f\"The lstm prediction is : {getlabel(lstm_pred[i])}\\n\")\n",
    "        print('-'*120)\n",
    "    print(accuracy_score(pred, y_test))\n",
    "\n",
    "\n",
    "make_predictions(test_df)"
   ]
  },
  {
   "cell_type": "markdown",
   "id": "ad62011a-cd59-442a-8133-4e61b75ecccc",
   "metadata": {
    "id": "ad62011a-cd59-442a-8133-4e61b75ecccc"
   },
   "source": [
    "## Что дальше?\n",
    "\n",
    "Попытайтесь улучшить модель (попробуйте GRU), изменить подход к токенизации данных и так далее, удачи!"
   ]
  }
 ],
 "metadata": {
  "accelerator": "GPU",
  "colab": {
   "gpuType": "T4",
   "provenance": []
  },
  "kernelspec": {
   "display_name": "base",
   "language": "python",
   "name": "python3"
  },
  "language_info": {
   "codemirror_mode": {
    "name": "ipython",
    "version": 3
   },
   "file_extension": ".py",
   "mimetype": "text/x-python",
   "name": "python",
   "nbconvert_exporter": "python",
   "pygments_lexer": "ipython3",
   "version": "3.12.7"
  },
  "widgets": {
   "application/vnd.jupyter.widget-state+json": {
    "08bce6ca5e95403a938410a74bc50aa5": {
     "model_module": "@jupyter-widgets/controls",
     "model_module_version": "1.5.0",
     "model_name": "DescriptionStyleModel",
     "state": {
      "_model_module": "@jupyter-widgets/controls",
      "_model_module_version": "1.5.0",
      "_model_name": "DescriptionStyleModel",
      "_view_count": null,
      "_view_module": "@jupyter-widgets/base",
      "_view_module_version": "1.2.0",
      "_view_name": "StyleView",
      "description_width": ""
     }
    },
    "131f649420f04e94b9dd4a9dd76e04e9": {
     "model_module": "@jupyter-widgets/controls",
     "model_module_version": "1.5.0",
     "model_name": "DescriptionStyleModel",
     "state": {
      "_model_module": "@jupyter-widgets/controls",
      "_model_module_version": "1.5.0",
      "_model_name": "DescriptionStyleModel",
      "_view_count": null,
      "_view_module": "@jupyter-widgets/base",
      "_view_module_version": "1.2.0",
      "_view_name": "StyleView",
      "description_width": ""
     }
    },
    "1632bf626d6a48cbba75a14d9d1f1767": {
     "model_module": "@jupyter-widgets/base",
     "model_module_version": "1.2.0",
     "model_name": "LayoutModel",
     "state": {
      "_model_module": "@jupyter-widgets/base",
      "_model_module_version": "1.2.0",
      "_model_name": "LayoutModel",
      "_view_count": null,
      "_view_module": "@jupyter-widgets/base",
      "_view_module_version": "1.2.0",
      "_view_name": "LayoutView",
      "align_content": null,
      "align_items": null,
      "align_self": null,
      "border": null,
      "bottom": null,
      "display": null,
      "flex": null,
      "flex_flow": null,
      "grid_area": null,
      "grid_auto_columns": null,
      "grid_auto_flow": null,
      "grid_auto_rows": null,
      "grid_column": null,
      "grid_gap": null,
      "grid_row": null,
      "grid_template_areas": null,
      "grid_template_columns": null,
      "grid_template_rows": null,
      "height": null,
      "justify_content": null,
      "justify_items": null,
      "left": null,
      "margin": null,
      "max_height": null,
      "max_width": null,
      "min_height": null,
      "min_width": null,
      "object_fit": null,
      "object_position": null,
      "order": null,
      "overflow": null,
      "overflow_x": null,
      "overflow_y": null,
      "padding": null,
      "right": null,
      "top": null,
      "visibility": null,
      "width": null
     }
    },
    "2656000b50af427c857cede9d283a2e2": {
     "model_module": "@jupyter-widgets/base",
     "model_module_version": "1.2.0",
     "model_name": "LayoutModel",
     "state": {
      "_model_module": "@jupyter-widgets/base",
      "_model_module_version": "1.2.0",
      "_model_name": "LayoutModel",
      "_view_count": null,
      "_view_module": "@jupyter-widgets/base",
      "_view_module_version": "1.2.0",
      "_view_name": "LayoutView",
      "align_content": null,
      "align_items": null,
      "align_self": null,
      "border": null,
      "bottom": null,
      "display": null,
      "flex": null,
      "flex_flow": null,
      "grid_area": null,
      "grid_auto_columns": null,
      "grid_auto_flow": null,
      "grid_auto_rows": null,
      "grid_column": null,
      "grid_gap": null,
      "grid_row": null,
      "grid_template_areas": null,
      "grid_template_columns": null,
      "grid_template_rows": null,
      "height": null,
      "justify_content": null,
      "justify_items": null,
      "left": null,
      "margin": null,
      "max_height": null,
      "max_width": null,
      "min_height": null,
      "min_width": null,
      "object_fit": null,
      "object_position": null,
      "order": null,
      "overflow": null,
      "overflow_x": null,
      "overflow_y": null,
      "padding": null,
      "right": null,
      "top": null,
      "visibility": null,
      "width": null
     }
    },
    "2a889e8e85344ba99bd00a88be5c9cd7": {
     "model_module": "@jupyter-widgets/controls",
     "model_module_version": "1.5.0",
     "model_name": "ProgressStyleModel",
     "state": {
      "_model_module": "@jupyter-widgets/controls",
      "_model_module_version": "1.5.0",
      "_model_name": "ProgressStyleModel",
      "_view_count": null,
      "_view_module": "@jupyter-widgets/base",
      "_view_module_version": "1.2.0",
      "_view_name": "StyleView",
      "bar_color": null,
      "description_width": ""
     }
    },
    "2f4a0e60b01b44b58fd2a0061f6e79f3": {
     "model_module": "@jupyter-widgets/controls",
     "model_module_version": "1.5.0",
     "model_name": "HTMLModel",
     "state": {
      "_dom_classes": [],
      "_model_module": "@jupyter-widgets/controls",
      "_model_module_version": "1.5.0",
      "_model_name": "HTMLModel",
      "_view_count": null,
      "_view_module": "@jupyter-widgets/controls",
      "_view_module_version": "1.5.0",
      "_view_name": "HTMLView",
      "description": "",
      "description_tooltip": null,
      "layout": "IPY_MODEL_ff1d03fa344246f9bd7f95dc27a3dc36",
      "placeholder": "​",
      "style": "IPY_MODEL_131f649420f04e94b9dd4a9dd76e04e9",
      "value": ""
     }
    },
    "372fd1e02ba44c2f86b7f52f9666e1f8": {
     "model_module": "@jupyter-widgets/controls",
     "model_module_version": "1.5.0",
     "model_name": "FloatProgressModel",
     "state": {
      "_dom_classes": [],
      "_model_module": "@jupyter-widgets/controls",
      "_model_module_version": "1.5.0",
      "_model_name": "FloatProgressModel",
      "_view_count": null,
      "_view_module": "@jupyter-widgets/controls",
      "_view_module_version": "1.5.0",
      "_view_name": "ProgressView",
      "bar_style": "success",
      "description": "",
      "description_tooltip": null,
      "layout": "IPY_MODEL_dd2ac609cc9c4ea0ba2baf43d4743601",
      "max": 1,
      "min": 0,
      "orientation": "horizontal",
      "style": "IPY_MODEL_af2795edca7d4581bb98ee0e941a374e",
      "value": 1
     }
    },
    "3ab2a2d53ba54fdca08f49eef10b43fa": {
     "model_module": "@jupyter-widgets/controls",
     "model_module_version": "1.5.0",
     "model_name": "HTMLModel",
     "state": {
      "_dom_classes": [],
      "_model_module": "@jupyter-widgets/controls",
      "_model_module_version": "1.5.0",
      "_model_name": "HTMLModel",
      "_view_count": null,
      "_view_module": "@jupyter-widgets/controls",
      "_view_module_version": "1.5.0",
      "_view_name": "HTMLView",
      "description": "",
      "description_tooltip": null,
      "layout": "IPY_MODEL_b0a757af688f4c62ba76fd9f7fce09df",
      "placeholder": "​",
      "style": "IPY_MODEL_52ef6afc0db04308a9aca8038b2acc32",
      "value": "100%"
     }
    },
    "3f4930b3fd124688aab40b37f57c6828": {
     "model_module": "@jupyter-widgets/controls",
     "model_module_version": "1.5.0",
     "model_name": "HBoxModel",
     "state": {
      "_dom_classes": [],
      "_model_module": "@jupyter-widgets/controls",
      "_model_module_version": "1.5.0",
      "_model_name": "HBoxModel",
      "_view_count": null,
      "_view_module": "@jupyter-widgets/controls",
      "_view_module_version": "1.5.0",
      "_view_name": "HBoxView",
      "box_style": "",
      "children": [
       "IPY_MODEL_e2ddecab43ef4162a75df55c411b15a9",
       "IPY_MODEL_e3f67cd57c6a40d8ab842ea10736c0d1",
       "IPY_MODEL_f762c2d76614451fa898985a0f1ce49c"
      ],
      "layout": "IPY_MODEL_fdf3f996babc40a784b9e5668ea3d00a"
     }
    },
    "45b6c93a675746868aefdd78cef39cca": {
     "model_module": "@jupyter-widgets/base",
     "model_module_version": "1.2.0",
     "model_name": "LayoutModel",
     "state": {
      "_model_module": "@jupyter-widgets/base",
      "_model_module_version": "1.2.0",
      "_model_name": "LayoutModel",
      "_view_count": null,
      "_view_module": "@jupyter-widgets/base",
      "_view_module_version": "1.2.0",
      "_view_name": "LayoutView",
      "align_content": null,
      "align_items": null,
      "align_self": null,
      "border": null,
      "bottom": null,
      "display": null,
      "flex": null,
      "flex_flow": null,
      "grid_area": null,
      "grid_auto_columns": null,
      "grid_auto_flow": null,
      "grid_auto_rows": null,
      "grid_column": null,
      "grid_gap": null,
      "grid_row": null,
      "grid_template_areas": null,
      "grid_template_columns": null,
      "grid_template_rows": null,
      "height": null,
      "justify_content": null,
      "justify_items": null,
      "left": null,
      "margin": null,
      "max_height": null,
      "max_width": null,
      "min_height": null,
      "min_width": null,
      "object_fit": null,
      "object_position": null,
      "order": null,
      "overflow": null,
      "overflow_x": null,
      "overflow_y": null,
      "padding": null,
      "right": null,
      "top": null,
      "visibility": null,
      "width": null
     }
    },
    "52ef6afc0db04308a9aca8038b2acc32": {
     "model_module": "@jupyter-widgets/controls",
     "model_module_version": "1.5.0",
     "model_name": "DescriptionStyleModel",
     "state": {
      "_model_module": "@jupyter-widgets/controls",
      "_model_module_version": "1.5.0",
      "_model_name": "DescriptionStyleModel",
      "_view_count": null,
      "_view_module": "@jupyter-widgets/base",
      "_view_module_version": "1.2.0",
      "_view_name": "StyleView",
      "description_width": ""
     }
    },
    "6d2468dce4134ec8a75b73b90062f3f5": {
     "model_module": "@jupyter-widgets/base",
     "model_module_version": "1.2.0",
     "model_name": "LayoutModel",
     "state": {
      "_model_module": "@jupyter-widgets/base",
      "_model_module_version": "1.2.0",
      "_model_name": "LayoutModel",
      "_view_count": null,
      "_view_module": "@jupyter-widgets/base",
      "_view_module_version": "1.2.0",
      "_view_name": "LayoutView",
      "align_content": null,
      "align_items": null,
      "align_self": null,
      "border": null,
      "bottom": null,
      "display": null,
      "flex": null,
      "flex_flow": null,
      "grid_area": null,
      "grid_auto_columns": null,
      "grid_auto_flow": null,
      "grid_auto_rows": null,
      "grid_column": null,
      "grid_gap": null,
      "grid_row": null,
      "grid_template_areas": null,
      "grid_template_columns": null,
      "grid_template_rows": null,
      "height": null,
      "justify_content": null,
      "justify_items": null,
      "left": null,
      "margin": null,
      "max_height": null,
      "max_width": null,
      "min_height": null,
      "min_width": null,
      "object_fit": null,
      "object_position": null,
      "order": null,
      "overflow": null,
      "overflow_x": null,
      "overflow_y": null,
      "padding": null,
      "right": null,
      "top": null,
      "visibility": null,
      "width": "20px"
     }
    },
    "6fb462ae26074968a12fc366a41220f2": {
     "model_module": "@jupyter-widgets/controls",
     "model_module_version": "1.5.0",
     "model_name": "HBoxModel",
     "state": {
      "_dom_classes": [],
      "_model_module": "@jupyter-widgets/controls",
      "_model_module_version": "1.5.0",
      "_model_name": "HBoxModel",
      "_view_count": null,
      "_view_module": "@jupyter-widgets/controls",
      "_view_module_version": "1.5.0",
      "_view_name": "HBoxView",
      "box_style": "",
      "children": [
       "IPY_MODEL_2f4a0e60b01b44b58fd2a0061f6e79f3",
       "IPY_MODEL_e57b4e6bdb5e4a7f9abcf62b702ef683",
       "IPY_MODEL_9f25ff2366ad49e982b1876e9c0c62d4"
      ],
      "layout": "IPY_MODEL_b0004c89be0040598085466bd6322545"
     }
    },
    "72a7f0df5a6140ea9265c09862bab2ce": {
     "model_module": "@jupyter-widgets/base",
     "model_module_version": "1.2.0",
     "model_name": "LayoutModel",
     "state": {
      "_model_module": "@jupyter-widgets/base",
      "_model_module_version": "1.2.0",
      "_model_name": "LayoutModel",
      "_view_count": null,
      "_view_module": "@jupyter-widgets/base",
      "_view_module_version": "1.2.0",
      "_view_name": "LayoutView",
      "align_content": null,
      "align_items": null,
      "align_self": null,
      "border": null,
      "bottom": null,
      "display": null,
      "flex": null,
      "flex_flow": null,
      "grid_area": null,
      "grid_auto_columns": null,
      "grid_auto_flow": null,
      "grid_auto_rows": null,
      "grid_column": null,
      "grid_gap": null,
      "grid_row": null,
      "grid_template_areas": null,
      "grid_template_columns": null,
      "grid_template_rows": null,
      "height": null,
      "justify_content": null,
      "justify_items": null,
      "left": null,
      "margin": null,
      "max_height": null,
      "max_width": null,
      "min_height": null,
      "min_width": null,
      "object_fit": null,
      "object_position": null,
      "order": null,
      "overflow": null,
      "overflow_x": null,
      "overflow_y": null,
      "padding": null,
      "right": null,
      "top": null,
      "visibility": null,
      "width": null
     }
    },
    "76b3d449ebb24746933f4e4718db19d2": {
     "model_module": "@jupyter-widgets/controls",
     "model_module_version": "1.5.0",
     "model_name": "HTMLModel",
     "state": {
      "_dom_classes": [],
      "_model_module": "@jupyter-widgets/controls",
      "_model_module_version": "1.5.0",
      "_model_name": "HTMLModel",
      "_view_count": null,
      "_view_module": "@jupyter-widgets/controls",
      "_view_module_version": "1.5.0",
      "_view_name": "HTMLView",
      "description": "",
      "description_tooltip": null,
      "layout": "IPY_MODEL_72a7f0df5a6140ea9265c09862bab2ce",
      "placeholder": "​",
      "style": "IPY_MODEL_dd0711787d9a44c6b884307cfb7c97d6",
      "value": " 16/16 [04:01&lt;00:00, 15.15s/it]"
     }
    },
    "7d7de408982f4f45b44b6d2b5bc893c2": {
     "model_module": "@jupyter-widgets/controls",
     "model_module_version": "1.5.0",
     "model_name": "HBoxModel",
     "state": {
      "_dom_classes": [],
      "_model_module": "@jupyter-widgets/controls",
      "_model_module_version": "1.5.0",
      "_model_name": "HBoxModel",
      "_view_count": null,
      "_view_module": "@jupyter-widgets/controls",
      "_view_module_version": "1.5.0",
      "_view_name": "HBoxView",
      "box_style": "",
      "children": [
       "IPY_MODEL_3ab2a2d53ba54fdca08f49eef10b43fa",
       "IPY_MODEL_f22bee15194e4e2a8cedd37c895e90df",
       "IPY_MODEL_76b3d449ebb24746933f4e4718db19d2"
      ],
      "layout": "IPY_MODEL_bed25a5493e546b8b4b25d516991f8dd"
     }
    },
    "90508e122cb1477fab175ea43d959cda": {
     "model_module": "@jupyter-widgets/controls",
     "model_module_version": "1.5.0",
     "model_name": "DescriptionStyleModel",
     "state": {
      "_model_module": "@jupyter-widgets/controls",
      "_model_module_version": "1.5.0",
      "_model_name": "DescriptionStyleModel",
      "_view_count": null,
      "_view_module": "@jupyter-widgets/base",
      "_view_module_version": "1.2.0",
      "_view_name": "StyleView",
      "description_width": ""
     }
    },
    "988cb50d61814882bcd49ce664bd4037": {
     "model_module": "@jupyter-widgets/controls",
     "model_module_version": "1.5.0",
     "model_name": "HBoxModel",
     "state": {
      "_dom_classes": [],
      "_model_module": "@jupyter-widgets/controls",
      "_model_module_version": "1.5.0",
      "_model_name": "HBoxModel",
      "_view_count": null,
      "_view_module": "@jupyter-widgets/controls",
      "_view_module_version": "1.5.0",
      "_view_name": "HBoxView",
      "box_style": "",
      "children": [
       "IPY_MODEL_e2970576851947db864818d56e6d7e0f",
       "IPY_MODEL_372fd1e02ba44c2f86b7f52f9666e1f8",
       "IPY_MODEL_dc6a56759030435293fee0ebe27bebbb"
      ],
      "layout": "IPY_MODEL_45b6c93a675746868aefdd78cef39cca"
     }
    },
    "9909df9d3ec84edba96a3f29b133b022": {
     "model_module": "@jupyter-widgets/controls",
     "model_module_version": "1.5.0",
     "model_name": "DescriptionStyleModel",
     "state": {
      "_model_module": "@jupyter-widgets/controls",
      "_model_module_version": "1.5.0",
      "_model_name": "DescriptionStyleModel",
      "_view_count": null,
      "_view_module": "@jupyter-widgets/base",
      "_view_module_version": "1.2.0",
      "_view_name": "StyleView",
      "description_width": ""
     }
    },
    "9a9681052cd24e3fb523e75659f44276": {
     "model_module": "@jupyter-widgets/base",
     "model_module_version": "1.2.0",
     "model_name": "LayoutModel",
     "state": {
      "_model_module": "@jupyter-widgets/base",
      "_model_module_version": "1.2.0",
      "_model_name": "LayoutModel",
      "_view_count": null,
      "_view_module": "@jupyter-widgets/base",
      "_view_module_version": "1.2.0",
      "_view_name": "LayoutView",
      "align_content": null,
      "align_items": null,
      "align_self": null,
      "border": null,
      "bottom": null,
      "display": null,
      "flex": null,
      "flex_flow": null,
      "grid_area": null,
      "grid_auto_columns": null,
      "grid_auto_flow": null,
      "grid_auto_rows": null,
      "grid_column": null,
      "grid_gap": null,
      "grid_row": null,
      "grid_template_areas": null,
      "grid_template_columns": null,
      "grid_template_rows": null,
      "height": null,
      "justify_content": null,
      "justify_items": null,
      "left": null,
      "margin": null,
      "max_height": null,
      "max_width": null,
      "min_height": null,
      "min_width": null,
      "object_fit": null,
      "object_position": null,
      "order": null,
      "overflow": null,
      "overflow_x": null,
      "overflow_y": null,
      "padding": null,
      "right": null,
      "top": null,
      "visibility": null,
      "width": null
     }
    },
    "9f25ff2366ad49e982b1876e9c0c62d4": {
     "model_module": "@jupyter-widgets/controls",
     "model_module_version": "1.5.0",
     "model_name": "HTMLModel",
     "state": {
      "_dom_classes": [],
      "_model_module": "@jupyter-widgets/controls",
      "_model_module_version": "1.5.0",
      "_model_name": "HTMLModel",
      "_view_count": null,
      "_view_module": "@jupyter-widgets/controls",
      "_view_module_version": "1.5.0",
      "_view_name": "HTMLView",
      "description": "",
      "description_tooltip": null,
      "layout": "IPY_MODEL_bb17d9f473924bc69abc8158fb9722bf",
      "placeholder": "​",
      "style": "IPY_MODEL_08bce6ca5e95403a938410a74bc50aa5",
      "value": " 10/? [00:00&lt;00:00, 437.08it/s]"
     }
    },
    "af2795edca7d4581bb98ee0e941a374e": {
     "model_module": "@jupyter-widgets/controls",
     "model_module_version": "1.5.0",
     "model_name": "ProgressStyleModel",
     "state": {
      "_model_module": "@jupyter-widgets/controls",
      "_model_module_version": "1.5.0",
      "_model_name": "ProgressStyleModel",
      "_view_count": null,
      "_view_module": "@jupyter-widgets/base",
      "_view_module_version": "1.2.0",
      "_view_name": "StyleView",
      "bar_color": null,
      "description_width": ""
     }
    },
    "afefa3bc07374b33b498611fdcd24728": {
     "model_module": "@jupyter-widgets/controls",
     "model_module_version": "1.5.0",
     "model_name": "ProgressStyleModel",
     "state": {
      "_model_module": "@jupyter-widgets/controls",
      "_model_module_version": "1.5.0",
      "_model_name": "ProgressStyleModel",
      "_view_count": null,
      "_view_module": "@jupyter-widgets/base",
      "_view_module_version": "1.2.0",
      "_view_name": "StyleView",
      "bar_color": null,
      "description_width": ""
     }
    },
    "b0004c89be0040598085466bd6322545": {
     "model_module": "@jupyter-widgets/base",
     "model_module_version": "1.2.0",
     "model_name": "LayoutModel",
     "state": {
      "_model_module": "@jupyter-widgets/base",
      "_model_module_version": "1.2.0",
      "_model_name": "LayoutModel",
      "_view_count": null,
      "_view_module": "@jupyter-widgets/base",
      "_view_module_version": "1.2.0",
      "_view_name": "LayoutView",
      "align_content": null,
      "align_items": null,
      "align_self": null,
      "border": null,
      "bottom": null,
      "display": null,
      "flex": null,
      "flex_flow": null,
      "grid_area": null,
      "grid_auto_columns": null,
      "grid_auto_flow": null,
      "grid_auto_rows": null,
      "grid_column": null,
      "grid_gap": null,
      "grid_row": null,
      "grid_template_areas": null,
      "grid_template_columns": null,
      "grid_template_rows": null,
      "height": null,
      "justify_content": null,
      "justify_items": null,
      "left": null,
      "margin": null,
      "max_height": null,
      "max_width": null,
      "min_height": null,
      "min_width": null,
      "object_fit": null,
      "object_position": null,
      "order": null,
      "overflow": null,
      "overflow_x": null,
      "overflow_y": null,
      "padding": null,
      "right": null,
      "top": null,
      "visibility": null,
      "width": null
     }
    },
    "b0a757af688f4c62ba76fd9f7fce09df": {
     "model_module": "@jupyter-widgets/base",
     "model_module_version": "1.2.0",
     "model_name": "LayoutModel",
     "state": {
      "_model_module": "@jupyter-widgets/base",
      "_model_module_version": "1.2.0",
      "_model_name": "LayoutModel",
      "_view_count": null,
      "_view_module": "@jupyter-widgets/base",
      "_view_module_version": "1.2.0",
      "_view_name": "LayoutView",
      "align_content": null,
      "align_items": null,
      "align_self": null,
      "border": null,
      "bottom": null,
      "display": null,
      "flex": null,
      "flex_flow": null,
      "grid_area": null,
      "grid_auto_columns": null,
      "grid_auto_flow": null,
      "grid_auto_rows": null,
      "grid_column": null,
      "grid_gap": null,
      "grid_row": null,
      "grid_template_areas": null,
      "grid_template_columns": null,
      "grid_template_rows": null,
      "height": null,
      "justify_content": null,
      "justify_items": null,
      "left": null,
      "margin": null,
      "max_height": null,
      "max_width": null,
      "min_height": null,
      "min_width": null,
      "object_fit": null,
      "object_position": null,
      "order": null,
      "overflow": null,
      "overflow_x": null,
      "overflow_y": null,
      "padding": null,
      "right": null,
      "top": null,
      "visibility": null,
      "width": null
     }
    },
    "bb17d9f473924bc69abc8158fb9722bf": {
     "model_module": "@jupyter-widgets/base",
     "model_module_version": "1.2.0",
     "model_name": "LayoutModel",
     "state": {
      "_model_module": "@jupyter-widgets/base",
      "_model_module_version": "1.2.0",
      "_model_name": "LayoutModel",
      "_view_count": null,
      "_view_module": "@jupyter-widgets/base",
      "_view_module_version": "1.2.0",
      "_view_name": "LayoutView",
      "align_content": null,
      "align_items": null,
      "align_self": null,
      "border": null,
      "bottom": null,
      "display": null,
      "flex": null,
      "flex_flow": null,
      "grid_area": null,
      "grid_auto_columns": null,
      "grid_auto_flow": null,
      "grid_auto_rows": null,
      "grid_column": null,
      "grid_gap": null,
      "grid_row": null,
      "grid_template_areas": null,
      "grid_template_columns": null,
      "grid_template_rows": null,
      "height": null,
      "justify_content": null,
      "justify_items": null,
      "left": null,
      "margin": null,
      "max_height": null,
      "max_width": null,
      "min_height": null,
      "min_width": null,
      "object_fit": null,
      "object_position": null,
      "order": null,
      "overflow": null,
      "overflow_x": null,
      "overflow_y": null,
      "padding": null,
      "right": null,
      "top": null,
      "visibility": null,
      "width": null
     }
    },
    "bed25a5493e546b8b4b25d516991f8dd": {
     "model_module": "@jupyter-widgets/base",
     "model_module_version": "1.2.0",
     "model_name": "LayoutModel",
     "state": {
      "_model_module": "@jupyter-widgets/base",
      "_model_module_version": "1.2.0",
      "_model_name": "LayoutModel",
      "_view_count": null,
      "_view_module": "@jupyter-widgets/base",
      "_view_module_version": "1.2.0",
      "_view_name": "LayoutView",
      "align_content": null,
      "align_items": null,
      "align_self": null,
      "border": null,
      "bottom": null,
      "display": null,
      "flex": null,
      "flex_flow": null,
      "grid_area": null,
      "grid_auto_columns": null,
      "grid_auto_flow": null,
      "grid_auto_rows": null,
      "grid_column": null,
      "grid_gap": null,
      "grid_row": null,
      "grid_template_areas": null,
      "grid_template_columns": null,
      "grid_template_rows": null,
      "height": null,
      "justify_content": null,
      "justify_items": null,
      "left": null,
      "margin": null,
      "max_height": null,
      "max_width": null,
      "min_height": null,
      "min_width": null,
      "object_fit": null,
      "object_position": null,
      "order": null,
      "overflow": null,
      "overflow_x": null,
      "overflow_y": null,
      "padding": null,
      "right": null,
      "top": null,
      "visibility": null,
      "width": null
     }
    },
    "cccc2dff59334824974e3baa10193470": {
     "model_module": "@jupyter-widgets/base",
     "model_module_version": "1.2.0",
     "model_name": "LayoutModel",
     "state": {
      "_model_module": "@jupyter-widgets/base",
      "_model_module_version": "1.2.0",
      "_model_name": "LayoutModel",
      "_view_count": null,
      "_view_module": "@jupyter-widgets/base",
      "_view_module_version": "1.2.0",
      "_view_name": "LayoutView",
      "align_content": null,
      "align_items": null,
      "align_self": null,
      "border": null,
      "bottom": null,
      "display": null,
      "flex": null,
      "flex_flow": null,
      "grid_area": null,
      "grid_auto_columns": null,
      "grid_auto_flow": null,
      "grid_auto_rows": null,
      "grid_column": null,
      "grid_gap": null,
      "grid_row": null,
      "grid_template_areas": null,
      "grid_template_columns": null,
      "grid_template_rows": null,
      "height": null,
      "justify_content": null,
      "justify_items": null,
      "left": null,
      "margin": null,
      "max_height": null,
      "max_width": null,
      "min_height": null,
      "min_width": null,
      "object_fit": null,
      "object_position": null,
      "order": null,
      "overflow": null,
      "overflow_x": null,
      "overflow_y": null,
      "padding": null,
      "right": null,
      "top": null,
      "visibility": null,
      "width": null
     }
    },
    "d0ae3e875c284a86bc47de3a1082bf3d": {
     "model_module": "@jupyter-widgets/controls",
     "model_module_version": "1.5.0",
     "model_name": "ProgressStyleModel",
     "state": {
      "_model_module": "@jupyter-widgets/controls",
      "_model_module_version": "1.5.0",
      "_model_name": "ProgressStyleModel",
      "_view_count": null,
      "_view_module": "@jupyter-widgets/base",
      "_view_module_version": "1.2.0",
      "_view_name": "StyleView",
      "bar_color": null,
      "description_width": ""
     }
    },
    "d3120738c3c04c8eb57ec5764c9eea72": {
     "model_module": "@jupyter-widgets/controls",
     "model_module_version": "1.5.0",
     "model_name": "DescriptionStyleModel",
     "state": {
      "_model_module": "@jupyter-widgets/controls",
      "_model_module_version": "1.5.0",
      "_model_name": "DescriptionStyleModel",
      "_view_count": null,
      "_view_module": "@jupyter-widgets/base",
      "_view_module_version": "1.2.0",
      "_view_name": "StyleView",
      "description_width": ""
     }
    },
    "dc6a56759030435293fee0ebe27bebbb": {
     "model_module": "@jupyter-widgets/controls",
     "model_module_version": "1.5.0",
     "model_name": "HTMLModel",
     "state": {
      "_dom_classes": [],
      "_model_module": "@jupyter-widgets/controls",
      "_model_module_version": "1.5.0",
      "_model_name": "HTMLModel",
      "_view_count": null,
      "_view_module": "@jupyter-widgets/controls",
      "_view_module_version": "1.5.0",
      "_view_name": "HTMLView",
      "description": "",
      "description_tooltip": null,
      "layout": "IPY_MODEL_ef82e89f2702469586e3086b2369bd35",
      "placeholder": "​",
      "style": "IPY_MODEL_f58ad3248f5940198c85deec3567b853",
      "value": " 62400/? [00:00&lt;00:00, 132762.17it/s]"
     }
    },
    "dd0711787d9a44c6b884307cfb7c97d6": {
     "model_module": "@jupyter-widgets/controls",
     "model_module_version": "1.5.0",
     "model_name": "DescriptionStyleModel",
     "state": {
      "_model_module": "@jupyter-widgets/controls",
      "_model_module_version": "1.5.0",
      "_model_name": "DescriptionStyleModel",
      "_view_count": null,
      "_view_module": "@jupyter-widgets/base",
      "_view_module_version": "1.2.0",
      "_view_name": "StyleView",
      "description_width": ""
     }
    },
    "dd2ac609cc9c4ea0ba2baf43d4743601": {
     "model_module": "@jupyter-widgets/base",
     "model_module_version": "1.2.0",
     "model_name": "LayoutModel",
     "state": {
      "_model_module": "@jupyter-widgets/base",
      "_model_module_version": "1.2.0",
      "_model_name": "LayoutModel",
      "_view_count": null,
      "_view_module": "@jupyter-widgets/base",
      "_view_module_version": "1.2.0",
      "_view_name": "LayoutView",
      "align_content": null,
      "align_items": null,
      "align_self": null,
      "border": null,
      "bottom": null,
      "display": null,
      "flex": null,
      "flex_flow": null,
      "grid_area": null,
      "grid_auto_columns": null,
      "grid_auto_flow": null,
      "grid_auto_rows": null,
      "grid_column": null,
      "grid_gap": null,
      "grid_row": null,
      "grid_template_areas": null,
      "grid_template_columns": null,
      "grid_template_rows": null,
      "height": null,
      "justify_content": null,
      "justify_items": null,
      "left": null,
      "margin": null,
      "max_height": null,
      "max_width": null,
      "min_height": null,
      "min_width": null,
      "object_fit": null,
      "object_position": null,
      "order": null,
      "overflow": null,
      "overflow_x": null,
      "overflow_y": null,
      "padding": null,
      "right": null,
      "top": null,
      "visibility": null,
      "width": "20px"
     }
    },
    "e2970576851947db864818d56e6d7e0f": {
     "model_module": "@jupyter-widgets/controls",
     "model_module_version": "1.5.0",
     "model_name": "HTMLModel",
     "state": {
      "_dom_classes": [],
      "_model_module": "@jupyter-widgets/controls",
      "_model_module_version": "1.5.0",
      "_model_name": "HTMLModel",
      "_view_count": null,
      "_view_module": "@jupyter-widgets/controls",
      "_view_module_version": "1.5.0",
      "_view_name": "HTMLView",
      "description": "",
      "description_tooltip": null,
      "layout": "IPY_MODEL_e87b689459ea42e7a8ee0e2726d8b1af",
      "placeholder": "​",
      "style": "IPY_MODEL_9909df9d3ec84edba96a3f29b133b022",
      "value": ""
     }
    },
    "e2ddecab43ef4162a75df55c411b15a9": {
     "model_module": "@jupyter-widgets/controls",
     "model_module_version": "1.5.0",
     "model_name": "HTMLModel",
     "state": {
      "_dom_classes": [],
      "_model_module": "@jupyter-widgets/controls",
      "_model_module_version": "1.5.0",
      "_model_name": "HTMLModel",
      "_view_count": null,
      "_view_module": "@jupyter-widgets/controls",
      "_view_module_version": "1.5.0",
      "_view_name": "HTMLView",
      "description": "",
      "description_tooltip": null,
      "layout": "IPY_MODEL_9a9681052cd24e3fb523e75659f44276",
      "placeholder": "​",
      "style": "IPY_MODEL_90508e122cb1477fab175ea43d959cda",
      "value": "100%"
     }
    },
    "e3f67cd57c6a40d8ab842ea10736c0d1": {
     "model_module": "@jupyter-widgets/controls",
     "model_module_version": "1.5.0",
     "model_name": "FloatProgressModel",
     "state": {
      "_dom_classes": [],
      "_model_module": "@jupyter-widgets/controls",
      "_model_module_version": "1.5.0",
      "_model_name": "FloatProgressModel",
      "_view_count": null,
      "_view_module": "@jupyter-widgets/controls",
      "_view_module_version": "1.5.0",
      "_view_name": "ProgressView",
      "bar_style": "success",
      "description": "",
      "description_tooltip": null,
      "layout": "IPY_MODEL_2656000b50af427c857cede9d283a2e2",
      "max": 2,
      "min": 0,
      "orientation": "horizontal",
      "style": "IPY_MODEL_afefa3bc07374b33b498611fdcd24728",
      "value": 2
     }
    },
    "e57b4e6bdb5e4a7f9abcf62b702ef683": {
     "model_module": "@jupyter-widgets/controls",
     "model_module_version": "1.5.0",
     "model_name": "FloatProgressModel",
     "state": {
      "_dom_classes": [],
      "_model_module": "@jupyter-widgets/controls",
      "_model_module_version": "1.5.0",
      "_model_name": "FloatProgressModel",
      "_view_count": null,
      "_view_module": "@jupyter-widgets/controls",
      "_view_module_version": "1.5.0",
      "_view_name": "ProgressView",
      "bar_style": "success",
      "description": "",
      "description_tooltip": null,
      "layout": "IPY_MODEL_6d2468dce4134ec8a75b73b90062f3f5",
      "max": 1,
      "min": 0,
      "orientation": "horizontal",
      "style": "IPY_MODEL_2a889e8e85344ba99bd00a88be5c9cd7",
      "value": 1
     }
    },
    "e87b689459ea42e7a8ee0e2726d8b1af": {
     "model_module": "@jupyter-widgets/base",
     "model_module_version": "1.2.0",
     "model_name": "LayoutModel",
     "state": {
      "_model_module": "@jupyter-widgets/base",
      "_model_module_version": "1.2.0",
      "_model_name": "LayoutModel",
      "_view_count": null,
      "_view_module": "@jupyter-widgets/base",
      "_view_module_version": "1.2.0",
      "_view_name": "LayoutView",
      "align_content": null,
      "align_items": null,
      "align_self": null,
      "border": null,
      "bottom": null,
      "display": null,
      "flex": null,
      "flex_flow": null,
      "grid_area": null,
      "grid_auto_columns": null,
      "grid_auto_flow": null,
      "grid_auto_rows": null,
      "grid_column": null,
      "grid_gap": null,
      "grid_row": null,
      "grid_template_areas": null,
      "grid_template_columns": null,
      "grid_template_rows": null,
      "height": null,
      "justify_content": null,
      "justify_items": null,
      "left": null,
      "margin": null,
      "max_height": null,
      "max_width": null,
      "min_height": null,
      "min_width": null,
      "object_fit": null,
      "object_position": null,
      "order": null,
      "overflow": null,
      "overflow_x": null,
      "overflow_y": null,
      "padding": null,
      "right": null,
      "top": null,
      "visibility": null,
      "width": null
     }
    },
    "ef82e89f2702469586e3086b2369bd35": {
     "model_module": "@jupyter-widgets/base",
     "model_module_version": "1.2.0",
     "model_name": "LayoutModel",
     "state": {
      "_model_module": "@jupyter-widgets/base",
      "_model_module_version": "1.2.0",
      "_model_name": "LayoutModel",
      "_view_count": null,
      "_view_module": "@jupyter-widgets/base",
      "_view_module_version": "1.2.0",
      "_view_name": "LayoutView",
      "align_content": null,
      "align_items": null,
      "align_self": null,
      "border": null,
      "bottom": null,
      "display": null,
      "flex": null,
      "flex_flow": null,
      "grid_area": null,
      "grid_auto_columns": null,
      "grid_auto_flow": null,
      "grid_auto_rows": null,
      "grid_column": null,
      "grid_gap": null,
      "grid_row": null,
      "grid_template_areas": null,
      "grid_template_columns": null,
      "grid_template_rows": null,
      "height": null,
      "justify_content": null,
      "justify_items": null,
      "left": null,
      "margin": null,
      "max_height": null,
      "max_width": null,
      "min_height": null,
      "min_width": null,
      "object_fit": null,
      "object_position": null,
      "order": null,
      "overflow": null,
      "overflow_x": null,
      "overflow_y": null,
      "padding": null,
      "right": null,
      "top": null,
      "visibility": null,
      "width": null
     }
    },
    "f22bee15194e4e2a8cedd37c895e90df": {
     "model_module": "@jupyter-widgets/controls",
     "model_module_version": "1.5.0",
     "model_name": "FloatProgressModel",
     "state": {
      "_dom_classes": [],
      "_model_module": "@jupyter-widgets/controls",
      "_model_module_version": "1.5.0",
      "_model_name": "FloatProgressModel",
      "_view_count": null,
      "_view_module": "@jupyter-widgets/controls",
      "_view_module_version": "1.5.0",
      "_view_name": "ProgressView",
      "bar_style": "success",
      "description": "",
      "description_tooltip": null,
      "layout": "IPY_MODEL_cccc2dff59334824974e3baa10193470",
      "max": 16,
      "min": 0,
      "orientation": "horizontal",
      "style": "IPY_MODEL_d0ae3e875c284a86bc47de3a1082bf3d",
      "value": 16
     }
    },
    "f58ad3248f5940198c85deec3567b853": {
     "model_module": "@jupyter-widgets/controls",
     "model_module_version": "1.5.0",
     "model_name": "DescriptionStyleModel",
     "state": {
      "_model_module": "@jupyter-widgets/controls",
      "_model_module_version": "1.5.0",
      "_model_name": "DescriptionStyleModel",
      "_view_count": null,
      "_view_module": "@jupyter-widgets/base",
      "_view_module_version": "1.2.0",
      "_view_name": "StyleView",
      "description_width": ""
     }
    },
    "f762c2d76614451fa898985a0f1ce49c": {
     "model_module": "@jupyter-widgets/controls",
     "model_module_version": "1.5.0",
     "model_name": "HTMLModel",
     "state": {
      "_dom_classes": [],
      "_model_module": "@jupyter-widgets/controls",
      "_model_module_version": "1.5.0",
      "_model_name": "HTMLModel",
      "_view_count": null,
      "_view_module": "@jupyter-widgets/controls",
      "_view_module_version": "1.5.0",
      "_view_name": "HTMLView",
      "description": "",
      "description_tooltip": null,
      "layout": "IPY_MODEL_1632bf626d6a48cbba75a14d9d1f1767",
      "placeholder": "​",
      "style": "IPY_MODEL_d3120738c3c04c8eb57ec5764c9eea72",
      "value": " 2/2 [00:00&lt;00:00, 91.07it/s]"
     }
    },
    "fdf3f996babc40a784b9e5668ea3d00a": {
     "model_module": "@jupyter-widgets/base",
     "model_module_version": "1.2.0",
     "model_name": "LayoutModel",
     "state": {
      "_model_module": "@jupyter-widgets/base",
      "_model_module_version": "1.2.0",
      "_model_name": "LayoutModel",
      "_view_count": null,
      "_view_module": "@jupyter-widgets/base",
      "_view_module_version": "1.2.0",
      "_view_name": "LayoutView",
      "align_content": null,
      "align_items": null,
      "align_self": null,
      "border": null,
      "bottom": null,
      "display": null,
      "flex": null,
      "flex_flow": null,
      "grid_area": null,
      "grid_auto_columns": null,
      "grid_auto_flow": null,
      "grid_auto_rows": null,
      "grid_column": null,
      "grid_gap": null,
      "grid_row": null,
      "grid_template_areas": null,
      "grid_template_columns": null,
      "grid_template_rows": null,
      "height": null,
      "justify_content": null,
      "justify_items": null,
      "left": null,
      "margin": null,
      "max_height": null,
      "max_width": null,
      "min_height": null,
      "min_width": null,
      "object_fit": null,
      "object_position": null,
      "order": null,
      "overflow": null,
      "overflow_x": null,
      "overflow_y": null,
      "padding": null,
      "right": null,
      "top": null,
      "visibility": null,
      "width": null
     }
    },
    "ff1d03fa344246f9bd7f95dc27a3dc36": {
     "model_module": "@jupyter-widgets/base",
     "model_module_version": "1.2.0",
     "model_name": "LayoutModel",
     "state": {
      "_model_module": "@jupyter-widgets/base",
      "_model_module_version": "1.2.0",
      "_model_name": "LayoutModel",
      "_view_count": null,
      "_view_module": "@jupyter-widgets/base",
      "_view_module_version": "1.2.0",
      "_view_name": "LayoutView",
      "align_content": null,
      "align_items": null,
      "align_self": null,
      "border": null,
      "bottom": null,
      "display": null,
      "flex": null,
      "flex_flow": null,
      "grid_area": null,
      "grid_auto_columns": null,
      "grid_auto_flow": null,
      "grid_auto_rows": null,
      "grid_column": null,
      "grid_gap": null,
      "grid_row": null,
      "grid_template_areas": null,
      "grid_template_columns": null,
      "grid_template_rows": null,
      "height": null,
      "justify_content": null,
      "justify_items": null,
      "left": null,
      "margin": null,
      "max_height": null,
      "max_width": null,
      "min_height": null,
      "min_width": null,
      "object_fit": null,
      "object_position": null,
      "order": null,
      "overflow": null,
      "overflow_x": null,
      "overflow_y": null,
      "padding": null,
      "right": null,
      "top": null,
      "visibility": null,
      "width": null
     }
    }
   }
  }
 },
 "nbformat": 4,
 "nbformat_minor": 5
}
